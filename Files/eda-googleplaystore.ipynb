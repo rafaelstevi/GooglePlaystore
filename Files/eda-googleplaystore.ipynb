{
 "cells": [
  {
   "cell_type": "markdown",
   "metadata": {},
   "source": [
    "# Exploratory Data Analysis Googleplaystore"
   ]
  },
  {
   "cell_type": "markdown",
   "metadata": {},
   "source": [
    "## Dataset Googleplaystore"
   ]
  },
  {
   "cell_type": "markdown",
   "metadata": {},
   "source": [
    "Dataset Googleplaystore teridiri dari :\n",
    "1. Googleplaystore Apps : googleplaystore\n",
    "2. Googleplaystore user review : googleplaystore_user_review\n",
    "\n",
    "Tipe kedua dataset tersebut adalah csv"
   ]
  },
  {
   "cell_type": "markdown",
   "metadata": {},
   "source": [
    "## Importing library & Dataset"
   ]
  },
  {
   "cell_type": "code",
   "execution_count": null,
   "metadata": {},
   "outputs": [],
   "source": [
    "# Import library\n",
    "import matplotlib.pyplot as plt\n",
    "%matplotlib inline\n",
    "import seaborn as sns\n",
    "import numpy as np\n",
    "import matplotlib.ticker as ticker\n",
    "import pandas as pd\n",
    "\n",
    "import plotly\n",
    "# connected=True untuk memastikan versi plotyly uptodate\n",
    "plotly.offline.init_notebook_mode(connected=True)\n",
    "import plotly.graph_objs as go\n",
    "import plotly.figure_factory as ff\n",
    "\n",
    "# Import data\n",
    "dfGapps = pd.read_csv('dataset/googleplaystore.csv')\n",
    "dfGUserReview = pd.read_csv('dataset/googleplaystore_user_reviews.csv')\n"
   ]
  },
  {
   "cell_type": "markdown",
   "metadata": {},
   "source": [
    "## Googleplaystore Apps"
   ]
  },
  {
   "cell_type": "markdown",
   "metadata": {},
   "source": [
    "Googleplaystore Apps adalah dataset mengenai aplikasi yang terdapat di googleplaystore dan terdiri dari :"
   ]
  },
  {
   "cell_type": "code",
   "execution_count": null,
   "metadata": {},
   "outputs": [],
   "source": [
    "# Baris beserta tipe data\n",
    "dfGapps.dtypes"
   ]
  },
  {
   "cell_type": "code",
   "execution_count": null,
   "metadata": {},
   "outputs": [],
   "source": [
    "# Jumlah baris dan kolom\n",
    "dfGapps.shape"
   ]
  },
  {
   "cell_type": "code",
   "execution_count": null,
   "metadata": {},
   "outputs": [],
   "source": [
    "# Menampilkan dataset\n",
    "dfGapps.head()"
   ]
  },
  {
   "cell_type": "markdown",
   "metadata": {},
   "source": [
    "## Googleplaystore User Review"
   ]
  },
  {
   "cell_type": "markdown",
   "metadata": {},
   "source": [
    "Googleplaystore Usert Review adalah dataset mengenaai review dari tiap user terhadap aplikasi dalam Googleplaystore dan terdiri dari :"
   ]
  },
  {
   "cell_type": "code",
   "execution_count": null,
   "metadata": {},
   "outputs": [],
   "source": [
    "# Baris dan tipe data\n",
    "dfGUserReview.dtypes"
   ]
  },
  {
   "cell_type": "code",
   "execution_count": null,
   "metadata": {},
   "outputs": [],
   "source": [
    "# Jumlah baris dan kolom\n",
    "dfGUserReview.shape"
   ]
  },
  {
   "cell_type": "code",
   "execution_count": null,
   "metadata": {},
   "outputs": [],
   "source": [
    "# menampilkan dataset\n",
    "dfGUserReview.head()"
   ]
  },
  {
   "cell_type": "markdown",
   "metadata": {},
   "source": [
    "## Menghitung Keseluruhan Review dari dfGUserReview"
   ]
  },
  {
   "cell_type": "code",
   "execution_count": null,
   "metadata": {},
   "outputs": [],
   "source": [
    "count = dfGUserReview['App'].value_counts() \n",
    "print(count) "
   ]
  },
  {
   "cell_type": "markdown",
   "metadata": {},
   "source": [
    "### Membersihkan data kosong dari dataset Googleplaystore User Review "
   ]
  },
  {
   "cell_type": "markdown",
   "metadata": {},
   "source": [
    "Googleplaystore User Review memiliki banyak data yang nilainya kosong atau NaN dan tidak memiliki arti untuk disimpan kedalam dataset,\n",
    "Sehingga data tersebut harus dibuang untuk meringankan pengolahan data."
   ]
  },
  {
   "cell_type": "code",
   "execution_count": null,
   "metadata": {},
   "outputs": [],
   "source": [
    "# membuat tampungan baru untuk diolah\n",
    "dfNaN = dfGUserReview\n",
    "\n",
    "# menampilkan jumlah baris sebelum didrop\n",
    "print(\"\\nJumlah baris sebelum mendrop baris Null : \", len(dfNaN)) \n",
    "\n",
    "# mendrop baris yang memiliki nilai NaN minimum 4 dari tampungan ke-2\n",
    "dfNaNDrop = dfNaN.dropna(axis = 0, how ='all', thresh=4) \n",
    "\n",
    "# Menampilkan perbandingan dari tampungan ke-1 dan tampungan ke-2 setelah di drop\n",
    "print(\"Panjang dataframe Sebelumnya:\", len(dfNaN), \"\\nPanjang dataframe Setelah didrop:\",  \n",
    "       len(dfNaNDrop), \"\\nJumlah baris dengan Nilai NaN minimum 4 : \", \n",
    "       (len(dfNaN)-len(dfNaNDrop)))\n",
    "\n",
    "# memasukan nilai dari data yang sudah dibersihkan dari nilai NaN ke dfGUserReview\n",
    "dfGUserReview = dfNaNDrop\n",
    "\n",
    "# Mereset Index dari dfGUserReview\n",
    "dfGUserReview.set_index('App', inplace=True)\n",
    "dfGUserReview.reset_index(inplace=True)"
   ]
  },
  {
   "cell_type": "markdown",
   "metadata": {},
   "source": [
    "## Mencari value unik dari dataset Googleplaystore Apps"
   ]
  },
  {
   "cell_type": "markdown",
   "metadata": {},
   "source": [
    "Dalam Dataset GooglePlaystore terdapat value-value unik yabg dapat ditamplikan untuk mendapat gambaran mengenai value yang ada dari tiap kolom.\n",
    "Berikut ini adalah value unik dari tiap kolom :"
   ]
  },
  {
   "cell_type": "markdown",
   "metadata": {},
   "source": [
    "### Category"
   ]
  },
  {
   "cell_type": "code",
   "execution_count": null,
   "metadata": {},
   "outputs": [],
   "source": [
    "# nilai unik dari kolom kategori\n",
    "dfGapps['Category'].unique()"
   ]
  },
  {
   "cell_type": "markdown",
   "metadata": {},
   "source": [
    "Dalam kolom kategori ditemukan value yang tidak sesuai dengan keseluruhan data yang ada yaitu '1.9', maka harus ditemukan baris keberapa yang memiliki nilai tersebut."
   ]
  },
  {
   "cell_type": "code",
   "execution_count": null,
   "metadata": {},
   "outputs": [],
   "source": [
    "dfGapps[dfGapps['Category'] == '1.9']"
   ]
  },
  {
   "cell_type": "markdown",
   "metadata": {},
   "source": [
    "dalam baris tersebut terlihat ada pergeseran data sehingga baris dan kolom tidak sinkron satu dengan yang lain. untuk mengatasi hal tersebut digunakan shift method yang ada dalam pandas."
   ]
  },
  {
   "cell_type": "code",
   "execution_count": null,
   "metadata": {},
   "outputs": [],
   "source": [
    "# Menggunakan metode shifting untuk mengeser data ke kanan\n",
    "dfGapps.iloc[10472,1:] = dfGapps.iloc[10472,1:].shift(1)\n",
    "dfGapps[10470:10475]"
   ]
  },
  {
   "cell_type": "markdown",
   "metadata": {},
   "source": [
    "Setelah di lihat pada playstore App \"Life Made WI-Fi Touchscreen Photo Frame\" Memiliki Category Lifestyle"
   ]
  },
  {
   "cell_type": "code",
   "execution_count": null,
   "metadata": {},
   "outputs": [],
   "source": [
    "# Menambahkan Category LIFESTYLE ke Aplikasi \"Life Made WI-Fi Touchscreen Photo Frame\"\n",
    "dfGapps.iloc[10472,1] = 'LIFESTYLE'\n",
    "dfGapps[10470:10475]"
   ]
  },
  {
   "cell_type": "code",
   "execution_count": null,
   "metadata": {},
   "outputs": [],
   "source": [
    "# Mengecek ulang type dari kolom dfGapps\n",
    "dfGapps.dtypes"
   ]
  },
  {
   "cell_type": "code",
   "execution_count": null,
   "metadata": {},
   "outputs": [],
   "source": [
    "# Mengubah kolom rating & Reviews kembali menjadi tipe float64\n",
    "dfGapps['Rating'] = dfGapps['Rating'].apply(pd.to_numeric, errors='coerce')\n",
    "dfGapps['Reviews'] = dfGapps['Reviews'].apply(pd.to_numeric, errors='coerce')"
   ]
  },
  {
   "cell_type": "code",
   "execution_count": null,
   "metadata": {},
   "outputs": [],
   "source": [
    "# membuat list untuk menampung data Category yang unik\n",
    "data_cat = {'Category':dfGapps['Category'].unique()} \n",
    "\n",
    "# memasukan data kategori ke dataframe\n",
    "dfCat = pd.DataFrame(data_cat)\n",
    "dfCat.head(10)"
   ]
  },
  {
   "cell_type": "markdown",
   "metadata": {},
   "source": [
    "Didalam Dataset Googleplaystore terdapat banyak aplikasi dengan berbagai category dan dengan mengitung jumlah apliasi dari tiap category dapat ditemukan category yang paling terkenal dalam Googleplaystore."
   ]
  },
  {
   "cell_type": "code",
   "execution_count": null,
   "metadata": {},
   "outputs": [],
   "source": [
    "dfGapps.groupby('Category')['App'].count()"
   ]
  },
  {
   "cell_type": "markdown",
   "metadata": {},
   "source": [
    "Hasil data diatas dapat divisualisasikan kedalam bentuk barchart seperti ini."
   ]
  },
  {
   "cell_type": "code",
   "execution_count": null,
   "metadata": {},
   "outputs": [],
   "source": [
    "plt.figure(figsize=(12,12))\n",
    "sns.countplot(y='Category',data = dfGapps)\n",
    "plt.title(\"Jumlah Aplikasi berdasarkan Category\")"
   ]
  },
  {
   "cell_type": "markdown",
   "metadata": {},
   "source": [
    "### Rating"
   ]
  },
  {
   "cell_type": "code",
   "execution_count": null,
   "metadata": {},
   "outputs": [],
   "source": [
    "# nilai unik dari kolom Rating\n",
    "dfGapps['Rating'].unique()"
   ]
  },
  {
   "cell_type": "markdown",
   "metadata": {},
   "source": [
    "datatype 'Rating' bertipe object dan harus diubah menjadi numerik agar dapat disorting"
   ]
  },
  {
   "cell_type": "code",
   "execution_count": null,
   "metadata": {},
   "outputs": [],
   "source": [
    "# mengkonversi tipe data dari kolom Rating\n",
    "dfGapps['Rating'] = pd.to_numeric(dfGapps['Rating'],errors='coerce')"
   ]
  },
  {
   "cell_type": "code",
   "execution_count": null,
   "metadata": {},
   "outputs": [],
   "source": [
    "# Menampilkan Aplikasi yang memiliki rating dari terendah ke tertinggi\n",
    "dfRat = dfGapps\n",
    "dfRat.sort_values(by='Rating',ascending=False)[['App','Rating','Category']].head()"
   ]
  },
  {
   "cell_type": "markdown",
   "metadata": {},
   "source": [
    "### Installs"
   ]
  },
  {
   "cell_type": "code",
   "execution_count": null,
   "metadata": {},
   "outputs": [],
   "source": [
    "# nilai unik dari kolom Installs\n",
    "dfGapps['Installs'].unique()"
   ]
  },
  {
   "cell_type": "markdown",
   "metadata": {},
   "source": [
    "Setelah menemukan Nilai unik dari kolom Installs, dapat mengetahui jarak dari satu titik milestone ke titik milestone lainnya. "
   ]
  },
  {
   "cell_type": "code",
   "execution_count": null,
   "metadata": {},
   "outputs": [],
   "source": [
    "# Menambahkan Kolom Install temp \n",
    "\n",
    "dfGapps.insert(6, \"Installs temp\", dfGapps['Installs'].apply(lambda x: x.replace(',', '') if ',' in str(x) else x), True)\n",
    "dfGapps['Installs temp'] = dfGapps['Installs temp'].apply(lambda x: float(str(x).replace('+', '')) /1000 if '+' in str(x)else x)\n",
    "dfGapps['Installs temp'] = dfGapps['Installs temp'].apply(lambda x: str(x))\n",
    "dfGapps['Installs temp'] = dfGapps['Installs temp'].apply(lambda x: x.replace('.0', '') if '.0' in str(x) else x) + 'K+'"
   ]
  },
  {
   "cell_type": "markdown",
   "metadata": {},
   "source": [
    "### Size"
   ]
  },
  {
   "cell_type": "code",
   "execution_count": null,
   "metadata": {},
   "outputs": [],
   "source": [
    "# Mengubah nilai 'Varies with device menjadi 'NaN' dan Mengkonversi value Size kedalam satuan Megabyte\n",
    "dfGapps['Size'] = dfGapps['Size'].apply(lambda x: str(x).replace('Varies with device', 'NaN') if 'Varies with device' in str(x) else x)\n",
    "\n",
    "dfGapps['Size'] = dfGapps['Size'].apply(lambda x: str(x).replace('M', '') if 'M' in str(x) else x)\n",
    "dfGapps['Size'] = dfGapps['Size'].apply(lambda x: str(x).replace(',', '') if 'M' in str(x) else x)\n",
    "\n",
    "# mengkonversi kilobyte menjadi byte dengan / 1000\n",
    "dfGapps['Size'] = dfGapps['Size'].apply(lambda x: float(str(x).replace('k', '')) / 1000 if 'k' in str(x) else x)\n",
    "\n",
    "# Mengubah type Size kembali menjadi Float\n",
    "dfGapps['Size'] = dfGapps['Size'].apply(lambda x: float(x))\n"
   ]
  },
  {
   "cell_type": "markdown",
   "metadata": {},
   "source": [
    "### Type"
   ]
  },
  {
   "cell_type": "code",
   "execution_count": null,
   "metadata": {},
   "outputs": [],
   "source": [
    "# nilai unik dari kolom Type\n",
    "dfGapps['Type'].unique()"
   ]
  },
  {
   "cell_type": "markdown",
   "metadata": {},
   "source": [
    "### Price"
   ]
  },
  {
   "cell_type": "code",
   "execution_count": null,
   "metadata": {},
   "outputs": [],
   "source": [
    "# nilai unik dari kolom Type\n",
    "dfGapps['Price'].unique()"
   ]
  },
  {
   "cell_type": "markdown",
   "metadata": {},
   "source": [
    "dengan mengetahui harga-harga yang dimiliki oleh tiap Aplikasi yang ada didalam googleplaystore dapat mengetahui 20 besar aplikasi termahal yang ada, namun sebelumnya harus dibuat konverter currency dengan kode berikut :"
   ]
  },
  {
   "cell_type": "code",
   "execution_count": null,
   "metadata": {},
   "outputs": [],
   "source": [
    "def convert_currency(val):\n",
    "    \n",
    "    new_val = val.replace(',','').replace('$', '')\n",
    "    return float(new_val)"
   ]
  },
  {
   "cell_type": "code",
   "execution_count": null,
   "metadata": {},
   "outputs": [],
   "source": [
    "# Membuat dataframe baru yang berisikan nilai dari dataframe dfGapps\n",
    "dfPrice = dfGapps\n",
    "# mengaplikasikan method convert_currency kedalam dfPrice\n",
    "dfPrice['Price'] = dfGapps['Price'].apply(convert_currency)"
   ]
  },
  {
   "cell_type": "code",
   "execution_count": null,
   "metadata": {},
   "outputs": [],
   "source": [
    "# Menampilkan 20 aplikasi termahal didalam googleplaystore\n",
    "dfPrice.sort_values(by='Price',ascending=False)[['App','Price','Category']].head(20)"
   ]
  },
  {
   "cell_type": "markdown",
   "metadata": {},
   "source": [
    "### Content Rating"
   ]
  },
  {
   "cell_type": "code",
   "execution_count": null,
   "metadata": {},
   "outputs": [],
   "source": [
    "# nilai unik dari kolom Content Rating\n",
    "dfGapps['Content Rating'].unique()"
   ]
  },
  {
   "cell_type": "markdown",
   "metadata": {},
   "source": [
    "### Genres"
   ]
  },
  {
   "cell_type": "code",
   "execution_count": null,
   "metadata": {},
   "outputs": [],
   "source": [
    "# nilai unik dari kolom Genres\n",
    "dfGapps['Genres'].unique()"
   ]
  },
  {
   "cell_type": "markdown",
   "metadata": {},
   "source": [
    "### Android Ver"
   ]
  },
  {
   "cell_type": "code",
   "execution_count": null,
   "metadata": {},
   "outputs": [],
   "source": [
    "# nilai unik dari kolom Android Ver\n",
    "dfGapps['Android Ver'].unique()"
   ]
  },
  {
   "cell_type": "markdown",
   "metadata": {},
   "source": [
    "## Visualisasi Free & Paid App dalam Barplot"
   ]
  },
  {
   "cell_type": "code",
   "execution_count": null,
   "metadata": {},
   "outputs": [],
   "source": [
    "type_group = dfGapps.groupby('Type').App.count()\n",
    "type_group"
   ]
  },
  {
   "cell_type": "code",
   "execution_count": null,
   "metadata": {},
   "outputs": [],
   "source": [
    "plt.figure(figsize=(12,10))\n",
    "ax = sns.countplot(x='Type',data = dfGapps, order=['Free','Paid'])\n",
    "plt.title(\"Perbandingan App Free & Paid\")\n",
    "plt.xlabel('Type Aplikasi')\n",
    "\n",
    "# Membuat variable ncount untuk panjan data dfGapps\n",
    "ncount = len(dfGapps)\n",
    "\n",
    "# Membuat twin Axis\n",
    "ax2 = ax.twinx()\n",
    "\n",
    "# Menukar Posisi count axis dan frequency\n",
    "ax2.yaxis.tick_left()\n",
    "ax.yaxis.tick_right()\n",
    "\n",
    "# Menukar Posisi label dari count dan frequency\n",
    "ax.yaxis.set_label_position('right')\n",
    "ax2.yaxis.set_label_position('left')\n",
    "\n",
    "ax2.set_ylabel('Frequency [%]')\n",
    "\n",
    "for p in ax.patches:\n",
    "    x=p.get_bbox().get_points()[:,0]\n",
    "    y=p.get_bbox().get_points()[1,1]\n",
    "    ax.annotate('{:.1f}%'.format(100.*y/ncount), (x.mean(), y), \n",
    "            ha='center', va='bottom')\n",
    "\n",
    "# Menggunakan LinearLocator untuk memastikan jarak tiap tick benar    \n",
    "ax.yaxis.set_major_locator(ticker.LinearLocator(11))\n",
    "\n",
    "# Mengubah range frequensi menjadi 0 - 100\n",
    "ax2.set_ylim(0,100)\n",
    "ax.set_ylim(0,ncount)\n",
    "\n",
    "# menggunakan multipicator untuk memastikan jarak tiap tick adalah 10\n",
    "ax2.yaxis.set_major_locator(ticker.MultipleLocator(10))\n",
    "\n",
    "# Mematikan grid pada ax2 agar gridline dapat terlihat\n",
    "ax2.grid(None)"
   ]
  },
  {
   "cell_type": "markdown",
   "metadata": {},
   "source": [
    "## Histogram Distribusi Rating"
   ]
  },
  {
   "cell_type": "code",
   "execution_count": null,
   "metadata": {},
   "outputs": [],
   "source": [
    "dfGapps[\"Rating\"].plot(kind=\"hist\",color=\"blue\",bins=42,grid=True,alpha=0.65,label=\"Rating\",figsize=(15,10))\n",
    "plt.legend()\n",
    "plt.xlabel(\"Rating\")\n",
    "plt.title(\"Distribusi Rating Seluruh App\")"
   ]
  },
  {
   "cell_type": "code",
   "execution_count": null,
   "metadata": {},
   "outputs": [],
   "source": [
    "type_count = dfGapps.groupby('Type')"
   ]
  },
  {
   "cell_type": "code",
   "execution_count": null,
   "metadata": {},
   "outputs": [],
   "source": [
    "free_count_group = type_count.get_group('Free')\n",
    "paid_count_group = type_count.get_group('Paid')"
   ]
  },
  {
   "cell_type": "code",
   "execution_count": null,
   "metadata": {},
   "outputs": [],
   "source": [
    "fig, axes = plt.subplots(nrows=2,ncols=1,figsize=(12,12))\n",
    "\n",
    "free_count_group[\"Rating\"].plot(kind=\"hist\",color=\"blue\",bins=42,grid=True,alpha=0.65,label=\"Rating\",ax=axes[0])\n",
    "axes[0].legend()\n",
    "axes[0].set_xlabel('Rating')\n",
    "axes[0].set_title(\"Distribusi Rating App Free\")\n",
    "\n",
    "paid_count_group[\"Rating\"].plot(kind=\"hist\",color=\"blue\",bins=42,grid=True,alpha=0.65,label=\"Rating\",ax=axes[1])\n",
    "axes[1].legend()\n",
    "axes[1].set_xlabel(\"Rating\")\n",
    "axes[1].set_title(\"Distribusi Rating App Paid\")"
   ]
  },
  {
   "cell_type": "code",
   "execution_count": null,
   "metadata": {},
   "outputs": [],
   "source": [
    "count_cat = dfGapps.groupby('Category')"
   ]
  },
  {
   "cell_type": "code",
   "execution_count": null,
   "metadata": {},
   "outputs": [],
   "source": [
    "count_cat0 = count_cat.get_group('ART_AND_DESIGN')\n",
    "count_cat1 = count_cat.get_group('AUTO_AND_VEHICLES')\n",
    "count_cat2 = count_cat.get_group('BEAUTY')\n",
    "count_cat3 = count_cat.get_group('BOOKS_AND_REFERENCE')\n",
    "count_cat4 = count_cat.get_group('BUSINESS')\n",
    "count_cat5 = count_cat.get_group('COMICS')\n",
    "count_cat6 = count_cat.get_group('COMMUNICATION')\n",
    "count_cat7 = count_cat.get_group('DATING')\n",
    "count_cat8 = count_cat.get_group('EDUCATION')\n",
    "count_cat9 = count_cat.get_group('ENTERTAINMENT')\n",
    "count_cat10 = count_cat.get_group('EVENTS')\n",
    "count_cat11 = count_cat.get_group('FAMILY')\n",
    "count_cat12 = count_cat.get_group('FINANCE')\n",
    "count_cat13 = count_cat.get_group('FOOD_AND_DRINK')\n",
    "count_cat14 = count_cat.get_group('GAME')\n",
    "count_cat15 = count_cat.get_group('HEALTH_AND_FITNESS')\n",
    "count_cat16 = count_cat.get_group('HOUSE_AND_HOME')\n",
    "count_cat17 = count_cat.get_group('LIBRARIES_AND_DEMO')\n",
    "count_cat18 = count_cat.get_group('LIFESTYLE')\n",
    "count_cat19 = count_cat.get_group('MAPS_AND_NAVIGATION')\n",
    "count_cat20 = count_cat.get_group('MEDICAL')\n",
    "count_cat21 = count_cat.get_group('NEWS_AND_MAGAZINES')\n",
    "count_cat22 = count_cat.get_group('PARENTING')\n",
    "count_cat23 = count_cat.get_group('PERSONALIZATION')\n",
    "count_cat24 = count_cat.get_group('PHOTOGRAPHY')\n",
    "count_cat25 = count_cat.get_group('PRODUCTIVITY')\n",
    "count_cat26 = count_cat.get_group('SHOPPING')\n",
    "count_cat27 = count_cat.get_group('SOCIAL')\n",
    "count_cat28 = count_cat.get_group('SPORTS')\n",
    "count_cat29 = count_cat.get_group('TOOLS')\n",
    "count_cat30 = count_cat.get_group('TRAVEL_AND_LOCAL')\n",
    "count_cat31 = count_cat.get_group('VIDEO_PLAYERS')\n",
    "count_cat32 = count_cat.get_group('WEATHER')"
   ]
  },
  {
   "cell_type": "code",
   "execution_count": null,
   "metadata": {},
   "outputs": [],
   "source": [
    "fig, axes = plt.subplots(nrows=7,ncols=5,figsize=(25,35))\n",
    "count_cat0[\"Rating\"].plot(kind=\"hist\",color=\"blue\",bins=10,grid=True,alpha=0.65,label=\"Rating\",ax=axes[0][0])\n",
    "axes[0][0].set_xlim(1.0,5.0)\n",
    "axes[0][0].set_ylim(0,800)\n",
    "axes[0][0].legend()\n",
    "axes[0][0].set_xlabel('Rating')\n",
    "axes[0][0].set_title(\"Category ART_AND_DESIGN\")\n",
    "\n",
    "count_cat1[\"Rating\"].plot(kind=\"hist\",color=\"blue\",bins=10,grid=True,alpha=0.65,label=\"Rating\",ax=axes[0][1])\n",
    "axes[0][1].set_xlim(1.0,5.0)\n",
    "axes[0][1].set_ylim(0,800)\n",
    "axes[0][1].legend()\n",
    "axes[0][1].set_xlabel('Rating')\n",
    "axes[0][1].set_title(\"Category AUTO_AND_VEHICLES\")\n",
    "\n",
    "count_cat2[\"Rating\"].plot(kind=\"hist\",color=\"blue\",bins=10,grid=True,alpha=0.65,label=\"Rating\",ax=axes[0][2])\n",
    "axes[0][2].set_xlim(1.0,5.0)\n",
    "axes[0][2].set_ylim(0,800)\n",
    "axes[0][2].legend()\n",
    "axes[0][2].set_xlabel('Rating')\n",
    "axes[0][2].set_title(\"Category BEAUTY\")\n",
    "\n",
    "count_cat3[\"Rating\"].plot(kind=\"hist\",color=\"blue\",bins=10,grid=True,alpha=0.65,label=\"Rating\",ax=axes[0][3])\n",
    "axes[0][3].set_xlim(1.0,5.0)\n",
    "axes[0][3].set_ylim(0,800)\n",
    "axes[0][3].legend()\n",
    "axes[0][3].set_xlabel('Rating')\n",
    "axes[0][3].set_title(\"Category BOOKS_AND_REFERENCE\")\n",
    "\n",
    "count_cat4[\"Rating\"].plot(kind=\"hist\",color=\"blue\",bins=10,grid=True,alpha=0.65,label=\"Rating\",ax=axes[0][4])\n",
    "axes[0][4].set_xlim(1.0,5.0)\n",
    "axes[0][4].set_ylim(0,800)\n",
    "axes[0][4].legend()\n",
    "axes[0][4].set_xlabel('Rating')\n",
    "axes[0][4].set_title(\"Category BUSINESS\")\n",
    "\n",
    "count_cat5[\"Rating\"].plot(kind=\"hist\",color=\"blue\",bins=10,grid=True,alpha=0.65,label=\"Rating\",ax=axes[1][0])\n",
    "axes[1][0].set_xlim(1.0,5.0)\n",
    "axes[1][0].set_ylim(0,800)\n",
    "axes[1][0].legend()\n",
    "axes[1][0].set_xlabel('Rating')\n",
    "axes[1][0].set_title(\"Category COMICS\")\n",
    "\n",
    "count_cat6[\"Rating\"].plot(kind=\"hist\",color=\"blue\",bins=10,grid=True,alpha=0.65,label=\"Rating\",ax=axes[1][1])\n",
    "axes[1][1].set_xlim(1.0,5.0)\n",
    "axes[1][1].set_ylim(0,800)\n",
    "axes[1][1].legend()\n",
    "axes[1][1].set_xlabel('Rating')\n",
    "axes[1][1].set_title(\"Category COMMUNICATION\")\n",
    "\n",
    "count_cat7[\"Rating\"].plot(kind=\"hist\",color=\"blue\",bins=10,grid=True,alpha=0.65,label=\"Rating\",ax=axes[1][2])\n",
    "axes[1][2].set_xlim(1.0,5.0)\n",
    "axes[1][2].set_ylim(0,800)\n",
    "axes[1][2].legend()\n",
    "axes[1][2].set_xlabel('Rating')\n",
    "axes[1][2].set_title(\"Category DATING\")\n",
    "\n",
    "count_cat8[\"Rating\"].plot(kind=\"hist\",color=\"blue\",bins=10,grid=True,alpha=0.65,label=\"Rating\",ax=axes[1][3])\n",
    "axes[1][3].set_xlim(1.0,5.0)\n",
    "axes[1][3].set_ylim(0,800)\n",
    "axes[1][3].legend()\n",
    "axes[1][3].set_xlabel('Rating')\n",
    "axes[1][3].set_title(\"Category EDUCATION\")\n",
    "\n",
    "count_cat9[\"Rating\"].plot(kind=\"hist\",color=\"blue\",bins=10,grid=True,alpha=0.65,label=\"Rating\",ax=axes[1][4])\n",
    "axes[1][4].set_xlim(1.0,5.0)\n",
    "axes[1][4].set_ylim(0,800)\n",
    "axes[1][4].legend()\n",
    "axes[1][4].set_xlabel('Rating')\n",
    "axes[1][4].set_title(\"Category ENTERTAINMENT\")\n",
    "\n",
    "count_cat10[\"Rating\"].plot(kind=\"hist\",color=\"blue\",bins=10,grid=True,alpha=0.65,label=\"Rating\",ax=axes[2][0])\n",
    "axes[2][0].set_xlim(1.0,5.0)\n",
    "axes[2][0].set_ylim(0,800)\n",
    "axes[2][0].legend()\n",
    "axes[2][0].set_xlabel('Rating')\n",
    "axes[2][0].set_title(\"Category EVENTS\")\n",
    "\n",
    "count_cat11[\"Rating\"].plot(kind=\"hist\",color=\"blue\",bins=10,grid=True,alpha=0.65,label=\"Rating\",ax=axes[2][1])\n",
    "axes[2][1].set_xlim(1.0,5.0)\n",
    "axes[2][1].set_ylim(0,800)\n",
    "axes[2][1].legend()\n",
    "axes[2][1].set_xlabel('Rating')\n",
    "axes[2][1].set_title(\"Category FAMILY\")\n",
    "\n",
    "count_cat12[\"Rating\"].plot(kind=\"hist\",color=\"blue\",bins=10,grid=True,alpha=0.65,label=\"Rating\",ax=axes[2][2])\n",
    "axes[2][2].set_xlim(1.0,5.0)\n",
    "axes[2][2].set_ylim(0,800)\n",
    "axes[2][2].legend()\n",
    "axes[2][2].set_xlabel('Rating')\n",
    "axes[2][2].set_title(\"Category FINANCE\")\n",
    "\n",
    "count_cat13[\"Rating\"].plot(kind=\"hist\",color=\"blue\",bins=10,grid=True,alpha=0.65,label=\"Rating\",ax=axes[2][3])\n",
    "axes[2][3].set_xlim(1.0,5.0)\n",
    "axes[2][3].set_ylim(0,800)\n",
    "axes[2][3].legend()\n",
    "axes[2][3].set_xlabel('Rating')\n",
    "axes[2][3].set_title(\"Category FOOD_AND_DRINK\")\n",
    "\n",
    "count_cat14[\"Rating\"].plot(kind=\"hist\",color=\"blue\",bins=10,grid=True,alpha=0.65,label=\"Rating\",ax=axes[2][4])\n",
    "axes[2][4].set_xlim(1.0,5.0)\n",
    "axes[2][4].set_ylim(0,800)\n",
    "axes[2][4].legend()\n",
    "axes[2][4].set_xlabel('Rating')\n",
    "axes[2][4].set_title(\"Category GAME\")\n",
    "\n",
    "count_cat15[\"Rating\"].plot(kind=\"hist\",color=\"blue\",bins=10,grid=True,alpha=0.65,label=\"Rating\",ax=axes[3][0])\n",
    "axes[3][0].set_xlim(1.0,5.0)\n",
    "axes[3][0].set_ylim(0,800)\n",
    "axes[3][0].legend()\n",
    "axes[3][0].set_xlabel('Rating')\n",
    "axes[3][0].set_title(\"Category HOUSE_AND_HOME\")\n",
    "\n",
    "count_cat16[\"Rating\"].plot(kind=\"hist\",color=\"blue\",bins=10,grid=True,alpha=0.65,label=\"Rating\",ax=axes[3][1])\n",
    "axes[3][1].set_xlim(1.0,5.0)\n",
    "axes[3][1].set_ylim(0,800)\n",
    "axes[3][1].legend()\n",
    "axes[3][1].set_xlabel('Rating')\n",
    "axes[3][1].set_title(\"Category LIBRARIES_AND_DEMO\")\n",
    "\n",
    "count_cat17[\"Rating\"].plot(kind=\"hist\",color=\"blue\",bins=10,grid=True,alpha=0.65,label=\"Rating\",ax=axes[3][2])\n",
    "axes[3][2].set_xlim(1.0,5.0)\n",
    "axes[3][2].set_ylim(0,800)\n",
    "axes[3][2].legend()\n",
    "axes[3][2].set_xlabel('Rating')\n",
    "axes[3][2].set_title(\"Category LIFESTYLE\")\n",
    "\n",
    "count_cat18[\"Rating\"].plot(kind=\"hist\",color=\"blue\",bins=10,grid=True,alpha=0.65,label=\"Rating\",ax=axes[3][3])\n",
    "axes[3][3].set_xlim(1.0,5.0)\n",
    "axes[3][3].set_ylim(0,800)\n",
    "axes[3][3].legend()\n",
    "axes[3][3].set_xlabel('Rating')\n",
    "axes[3][3].set_title(\"Category MEDICAL\")\n",
    "\n",
    "count_cat19[\"Rating\"].plot(kind=\"hist\",color=\"blue\",bins=10,grid=True,alpha=0.65,label=\"Rating\",ax=axes[3][4])\n",
    "axes[3][4].set_xlim(1.0,5.0)\n",
    "axes[3][4].set_ylim(0,800)\n",
    "axes[3][4].legend()\n",
    "axes[3][4].set_xlabel('Rating')\n",
    "axes[3][4].set_title(\"Category NEWS_AND_MAGAZINES\")\n",
    "\n",
    "count_cat20[\"Rating\"].plot(kind=\"hist\",color=\"blue\",bins=20,grid=True,alpha=0.65,label=\"Rating\",ax=axes[4][0])\n",
    "axes[4][0].set_xlim(1.0,5.0)\n",
    "axes[4][0].set_ylim(0,800)\n",
    "axes[4][0].legend()\n",
    "axes[4][0].set_xlabel('Rating')\n",
    "axes[4][0].set_title(\"Category PARENTING\")\n",
    "\n",
    "count_cat21[\"Rating\"].plot(kind=\"hist\",color=\"blue\",bins=10,grid=True,alpha=0.65,label=\"Rating\",ax=axes[4][1])\n",
    "axes[4][1].set_xlim(1.0,5.0)\n",
    "axes[4][1].set_ylim(0,800)\n",
    "axes[4][1].legend()\n",
    "axes[4][1].set_xlabel('Rating')\n",
    "axes[4][1].set_title(\"Category PERSONALIZATION\")\n",
    "\n",
    "count_cat22[\"Rating\"].plot(kind=\"hist\",color=\"blue\",bins=10,grid=True,alpha=0.65,label=\"Rating\",ax=axes[4][2])\n",
    "axes[4][2].set_xlim(1.0,5.0)\n",
    "axes[4][2].set_ylim(0,800)\n",
    "axes[4][2].legend()\n",
    "axes[4][2].set_xlabel('Rating')\n",
    "axes[4][2].set_title(\"Category PHOTOGRAPHY\")\n",
    "\n",
    "count_cat23[\"Rating\"].plot(kind=\"hist\",color=\"blue\",bins=10,grid=True,alpha=0.65,label=\"Rating\",ax=axes[4][3])\n",
    "axes[4][3].set_xlim(1.0,5.0)\n",
    "axes[4][3].set_ylim(0,800)\n",
    "axes[4][3].legend()\n",
    "axes[4][3].set_xlabel('Rating')\n",
    "axes[4][3].set_title(\"Category PRODUCTIVITY\")\n",
    "\n",
    "count_cat24[\"Rating\"].plot(kind=\"hist\",color=\"blue\",bins=10,grid=True,alpha=0.65,label=\"Rating\",ax=axes[4][4])\n",
    "axes[4][4].set_xlim(1.0,5.0)\n",
    "axes[4][4].set_ylim(0,800)\n",
    "axes[4][4].legend()\n",
    "axes[4][4].set_xlabel('Rating')\n",
    "axes[4][4].set_title(\"Category SHOPPING\")\n",
    "\n",
    "count_cat25[\"Rating\"].plot(kind=\"hist\",color=\"blue\",bins=10,grid=True,alpha=0.65,label=\"Rating\",ax=axes[5][0])\n",
    "axes[5][0].set_xlim(1.0,5.0)\n",
    "axes[5][0].set_ylim(0,800)\n",
    "axes[5][0].legend()\n",
    "axes[5][0].set_xlabel('Rating')\n",
    "axes[5][0].set_title(\"Category SOCIAL\")\n",
    "\n",
    "count_cat26[\"Rating\"].plot(kind=\"hist\",color=\"blue\",bins=10,grid=True,alpha=0.65,label=\"Rating\",ax=axes[5][1])\n",
    "axes[5][1].set_xlim(1.0,5.0)\n",
    "axes[5][1].set_ylim(0,800)\n",
    "axes[5][1].legend()\n",
    "axes[5][1].set_xlabel('Rating')\n",
    "axes[5][1].set_title(\"Category SPORTS\")\n",
    "\n",
    "count_cat27[\"Rating\"].plot(kind=\"hist\",color=\"blue\",bins=10,grid=True,alpha=0.65,label=\"Rating\",ax=axes[5][2])\n",
    "axes[5][2].set_xlim(1.0,5.0)\n",
    "axes[5][2].set_ylim(0,800)\n",
    "axes[5][2].legend()\n",
    "axes[5][2].set_xlabel('Rating')\n",
    "axes[5][2].set_title(\"Category TOOLS\")\n",
    "\n",
    "count_cat28[\"Rating\"].plot(kind=\"hist\",color=\"blue\",bins=10,grid=True,alpha=0.65,label=\"Rating\",ax=axes[5][3])\n",
    "axes[5][3].set_xlim(1.0,5.0)\n",
    "axes[5][3].set_ylim(0,800)\n",
    "axes[5][3].legend()\n",
    "axes[5][3].set_xlabel('Rating')\n",
    "axes[5][3].set_title(\"Category TRAVEL_AND_LOCAL\")\n",
    "\n",
    "count_cat29[\"Rating\"].plot(kind=\"hist\",color=\"blue\",bins=10,grid=True,alpha=0.65,label=\"Rating\",ax=axes[5][4])\n",
    "axes[5][4].set_xlim(1.0,5.0)\n",
    "axes[5][4].set_ylim(0,800)\n",
    "axes[5][4].legend()\n",
    "axes[5][4].set_xlabel('Rating')\n",
    "axes[5][4].set_title(\"Category VIDEO_PLAYERS\")\n",
    "\n",
    "count_cat30[\"Rating\"].plot(kind=\"hist\",color=\"blue\",bins=10,grid=True,alpha=0.65,label=\"Rating\",ax=axes[6][0])\n",
    "axes[6][0].set_xlim(1.0,5.0)\n",
    "axes[6][0].set_ylim(0,800)\n",
    "axes[6][0].legend()\n",
    "axes[6][0].set_xlabel('Rating')\n",
    "axes[6][0].set_title(\"Category WEATHER\")\n",
    "\n",
    "count_cat31[\"Rating\"].plot(kind=\"hist\",color=\"blue\",bins=10,grid=True,alpha=0.65,label=\"Rating\",ax=axes[6][1])\n",
    "axes[6][1].set_xlim(1.0,5.0)\n",
    "axes[6][1].set_ylim(0,800)\n",
    "axes[6][1].legend()\n",
    "axes[6][1].set_xlabel('Rating')\n",
    "axes[6][1].set_title(\"Category HEALTH_AND_FITNESS\")\n",
    "\n",
    "count_cat32[\"Rating\"].plot(kind=\"hist\",color=\"blue\",bins=10,grid=True,alpha=0.65,label=\"Rating\",ax=axes[6][2])\n",
    "axes[6][2].set_xlim(1.0,5.0)\n",
    "axes[6][2].set_ylim(0,800)\n",
    "axes[6][2].legend()\n",
    "axes[6][2].set_xlabel('Rating')\n",
    "axes[6][2].set_title(\"Category MAPS_AND_NAVIGATION\")\n",
    "\n",
    "axes[6][3].remove()\n",
    "axes[6][4].remove()"
   ]
  },
  {
   "cell_type": "markdown",
   "metadata": {},
   "source": [
    "### Install Count Category"
   ]
  },
  {
   "cell_type": "code",
   "execution_count": null,
   "metadata": {},
   "outputs": [],
   "source": [
    "fig, axes = plt.subplots(nrows=11,ncols=3,figsize=(29,90))\n",
    "sns.countplot(x='Installs temp',data = count_cat0,ax=axes[0][0])\n",
    "axes[0][0].yaxis.set_major_locator(ticker.LinearLocator(11))\n",
    "axes[0][0].set_xticklabels(axes[0][0].get_xticklabels(), rotation=30)\n",
    "axes[0][0].set_ylabel('Frekuensi')\n",
    "axes[0][0].set_title(\"Install Count ART_AND_DESIGN\")\n",
    "axes[0][0].set_ylim(0,300)\n",
    "\n",
    "sns.countplot(x='Installs temp',data = count_cat1,ax=axes[0][1])\n",
    "axes[0][1].yaxis.set_major_locator(ticker.LinearLocator(11))\n",
    "axes[0][1].set_xticklabels(axes[0][1].get_xticklabels(), rotation=30)\n",
    "axes[0][1].set_ylabel('Frekuensi')\n",
    "axes[0][1].set_title(\"Install Count AUTO_AND_VEHICLES\")\n",
    "axes[0][1].set_ylim(0,300)\n",
    "\n",
    "sns.countplot(x='Installs temp',data = count_cat2,ax=axes[0][2])\n",
    "axes[0][2].yaxis.set_major_locator(ticker.LinearLocator(11))\n",
    "axes[0][2].set_xticklabels(axes[0][2].get_xticklabels(), rotation=30)\n",
    "axes[0][2].set_ylabel('Frekuensi')\n",
    "axes[0][2].set_title(\"Install Count BEAUTY\")\n",
    "axes[0][2].set_ylim(0,300)\n",
    "\n",
    "sns.countplot(x='Installs temp',data = count_cat3,ax=axes[1][0])\n",
    "axes[1][0].yaxis.set_major_locator(ticker.LinearLocator(11))\n",
    "axes[1][0].set_xticklabels(axes[1][0].get_xticklabels(), rotation=30)\n",
    "axes[1][0].set_ylabel('Frekuensi')\n",
    "axes[1][0].set_title(\"Install Count BOOKS_AND_REFERENCE\")\n",
    "axes[1][0].set_ylim(0,300)\n",
    "\n",
    "sns.countplot(x='Installs temp',data = count_cat4,ax=axes[1][1])\n",
    "axes[1][1].yaxis.set_major_locator(ticker.LinearLocator(11))\n",
    "axes[1][1].set_xticklabels(axes[1][1].get_xticklabels(), rotation=30)\n",
    "axes[1][1].set_ylabel('Frekuensi')\n",
    "axes[1][1].set_title(\"Install Count BUSINESS\")\n",
    "axes[1][1].set_ylim(0,300)\n",
    "\n",
    "sns.countplot(x='Installs temp',data = count_cat5,ax=axes[1][2])\n",
    "axes[1][2].yaxis.set_major_locator(ticker.LinearLocator(11))\n",
    "axes[1][2].set_xticklabels(axes[1][2].get_xticklabels(), rotation=30)\n",
    "axes[1][2].set_ylabel('Frekuensi')\n",
    "axes[1][2].set_title(\"Install Count COMICS\")\n",
    "axes[1][2].set_ylim(0,300)\n",
    "\n",
    "sns.countplot(x='Installs temp',data = count_cat6,ax=axes[2][0])\n",
    "axes[2][0].yaxis.set_major_locator(ticker.LinearLocator(11))\n",
    "axes[2][0].set_xticklabels(axes[2][0].get_xticklabels(), rotation=30)\n",
    "axes[2][0].set_ylabel('Frekuensi')\n",
    "axes[2][0].set_title(\"Install Count COMMUNICATION\")\n",
    "axes[2][0].set_ylim(0,300)\n",
    "\n",
    "sns.countplot(x='Installs temp',data = count_cat7,ax=axes[2][1])\n",
    "axes[2][1].yaxis.set_major_locator(ticker.LinearLocator(11))\n",
    "axes[2][1].set_xticklabels(axes[2][1].get_xticklabels(), rotation=30)\n",
    "axes[2][1].set_ylabel('Frekuensi')\n",
    "axes[2][1].set_title(\"Install Count DATING\")\n",
    "axes[2][1].set_ylim(0,300)\n",
    "\n",
    "sns.countplot(x='Installs temp',data = count_cat8,ax=axes[2][2])\n",
    "axes[2][2].yaxis.set_major_locator(ticker.LinearLocator(11))\n",
    "axes[2][2].set_xticklabels(axes[2][2].get_xticklabels(), rotation=30)\n",
    "axes[2][2].set_ylabel('Frekuensi')\n",
    "axes[2][2].set_title(\"Install Count EDUCATION\")\n",
    "axes[2][2].set_ylim(0,300)\n",
    "\n",
    "sns.countplot(x='Installs temp',data = count_cat9,ax=axes[3][0])\n",
    "axes[3][0].yaxis.set_major_locator(ticker.LinearLocator(11))\n",
    "axes[3][0].set_xticklabels(axes[3][0].get_xticklabels(), rotation=30)\n",
    "axes[3][0].set_ylabel('Frekuensi')\n",
    "axes[3][0].set_title(\"Install Count ENTERTAINMENT\")\n",
    "axes[3][0].set_ylim(0,300)\n",
    "\n",
    "sns.countplot(x='Installs temp',data = count_cat10,ax=axes[3][1])\n",
    "axes[3][1].yaxis.set_major_locator(ticker.LinearLocator(11))\n",
    "axes[3][1].set_xticklabels(axes[3][1].get_xticklabels(), rotation=30)\n",
    "axes[3][1].set_ylabel('Frekuensi')\n",
    "axes[3][1].set_title(\"Install Count EVENTS\")\n",
    "axes[3][1].set_ylim(0,300)\n",
    "\n",
    "sns.countplot(x='Installs temp',data = count_cat11,ax=axes[3][2])\n",
    "axes[3][2].yaxis.set_major_locator(ticker.LinearLocator(11))\n",
    "axes[3][2].set_xticklabels(axes[3][2].get_xticklabels(), rotation=30)\n",
    "axes[3][2].set_ylabel('Frekuensi')\n",
    "axes[3][2].set_title(\"Install Count FAMILY\")\n",
    "axes[3][2].set_ylim(0,300)\n",
    "\n",
    "sns.countplot(x='Installs temp',data = count_cat12,ax=axes[4][0])\n",
    "axes[4][0].yaxis.set_major_locator(ticker.LinearLocator(11))\n",
    "axes[4][0].set_xticklabels(axes[4][0].get_xticklabels(), rotation=30)\n",
    "axes[4][0].set_ylabel('Frekuensi')\n",
    "axes[4][0].set_title(\"Install Count FINANCE\")\n",
    "axes[4][0].set_ylim(0,300)\n",
    "\n",
    "sns.countplot(x='Installs temp',data = count_cat13,ax=axes[4][1])\n",
    "axes[4][1].yaxis.set_major_locator(ticker.LinearLocator(11))\n",
    "axes[4][1].set_xticklabels(axes[4][1].get_xticklabels(), rotation=30)\n",
    "axes[4][1].set_ylabel('Frekuensi')\n",
    "axes[4][1].set_title(\"Install Count FOOD_AND_DRINK\")\n",
    "axes[4][1].set_ylim(0,300)\n",
    "\n",
    "sns.countplot(x='Installs temp',data = count_cat14,ax=axes[4][2])\n",
    "axes[4][2].yaxis.set_major_locator(ticker.LinearLocator(11))\n",
    "axes[4][2].set_xticklabels(axes[4][2].get_xticklabels(), rotation=30)\n",
    "axes[4][2].set_ylabel('Frekuensi')\n",
    "axes[4][2].set_title(\"Install Count GAME\")\n",
    "axes[4][2].set_ylim(0,300)\n",
    "\n",
    "sns.countplot(x='Installs temp',data = count_cat15,ax=axes[5][0])\n",
    "axes[5][0].yaxis.set_major_locator(ticker.LinearLocator(11))\n",
    "axes[5][0].set_xticklabels(axes[5][0].get_xticklabels(), rotation=30)\n",
    "axes[5][0].set_ylabel('Frekuensi')\n",
    "axes[5][0].set_title(\"Install Count HEALTH_AND_FITNESS\")\n",
    "axes[5][0].set_ylim(0,300)\n",
    "\n",
    "sns.countplot(x='Installs temp',data = count_cat16,ax=axes[5][1])\n",
    "axes[5][1].yaxis.set_major_locator(ticker.LinearLocator(11))\n",
    "axes[5][1].set_xticklabels(axes[5][1].get_xticklabels(), rotation=30)\n",
    "axes[5][1].set_ylabel('Frekuensi')\n",
    "axes[5][1].set_title(\"Install Count HOUSE_AND_HOME\")\n",
    "axes[5][1].set_ylim(0,300)\n",
    "\n",
    "sns.countplot(x='Installs temp',data = count_cat17,ax=axes[5][2])\n",
    "axes[5][2].yaxis.set_major_locator(ticker.LinearLocator(11))\n",
    "axes[5][2].set_xticklabels(axes[5][2].get_xticklabels(), rotation=30)\n",
    "axes[5][2].set_ylabel('Frekuensi')\n",
    "axes[5][2].set_title(\"Install Count LIBRARIES_AND_DEMO\")\n",
    "axes[5][2].set_ylim(0,300)\n",
    "\n",
    "sns.countplot(x='Installs temp',data = count_cat18,ax=axes[6][0])\n",
    "axes[6][0].yaxis.set_major_locator(ticker.LinearLocator(11))\n",
    "axes[6][0].set_xticklabels(axes[6][0].get_xticklabels(), rotation=30)\n",
    "axes[6][0].set_ylabel('Frekuensi')\n",
    "axes[6][0].set_title(\"Install Count LIFESTYLE\")\n",
    "axes[6][0].set_ylim(0,300)\n",
    "\n",
    "sns.countplot(x='Installs temp',data = count_cat19,ax=axes[6][1])\n",
    "axes[6][1].yaxis.set_major_locator(ticker.LinearLocator(11))\n",
    "axes[6][1].set_xticklabels(axes[6][1].get_xticklabels(), rotation=30)\n",
    "axes[6][1].set_ylabel('Frekuensi')\n",
    "axes[6][1].set_title(\"Install Count MAPS_AND_NAVIGATION\")\n",
    "axes[6][1].set_ylim(0,300)\n",
    "\n",
    "sns.countplot(x='Installs temp',data = count_cat20,ax=axes[6][2])\n",
    "axes[6][2].yaxis.set_major_locator(ticker.LinearLocator(11))\n",
    "axes[6][2].set_xticklabels(axes[6][2].get_xticklabels(), rotation=30)\n",
    "axes[6][2].set_ylabel('Frekuensi')\n",
    "axes[6][2].set_title(\"Install Count MEDICAL\")\n",
    "axes[6][2].set_ylim(0,300)\n",
    "\n",
    "sns.countplot(x='Installs temp',data = count_cat21,ax=axes[7][0])\n",
    "axes[7][0].yaxis.set_major_locator(ticker.LinearLocator(11))\n",
    "axes[7][0].set_xticklabels(axes[7][0].get_xticklabels(), rotation=30)\n",
    "axes[7][0].set_ylabel('Frekuensi')\n",
    "axes[7][0].set_title(\"Install Count NEWS_AND_MAGAZINES\")\n",
    "axes[7][0].set_ylim(0,300)\n",
    "\n",
    "sns.countplot(x='Installs temp',data = count_cat22,ax=axes[7][1])\n",
    "axes[7][1].yaxis.set_major_locator(ticker.LinearLocator(11))\n",
    "axes[7][1].set_xticklabels(axes[7][1].get_xticklabels(), rotation=30)\n",
    "axes[7][1].set_ylabel('Frekuensi')\n",
    "axes[7][1].set_title(\"Install Count PARENTING\")\n",
    "axes[7][1].set_ylim(0,300)\n",
    "\n",
    "sns.countplot(x='Installs temp',data = count_cat23,ax=axes[7][2])\n",
    "axes[7][2].yaxis.set_major_locator(ticker.LinearLocator(11))\n",
    "axes[7][2].set_xticklabels(axes[7][2].get_xticklabels(), rotation=30)\n",
    "axes[7][2].set_ylabel('Frekuensi')\n",
    "axes[7][2].set_title(\"Install Count PERSONALIZATION\")\n",
    "axes[7][2].set_ylim(0,300)\n",
    "\n",
    "sns.countplot(x='Installs temp',data = count_cat24,ax=axes[8][0])\n",
    "axes[8][0].yaxis.set_major_locator(ticker.LinearLocator(11))\n",
    "axes[8][0].set_xticklabels(axes[8][0].get_xticklabels(), rotation=30)\n",
    "axes[8][0].set_ylabel('Frekuensi')\n",
    "axes[8][0].set_title(\"Install Count PHOTOGRAPHY\")\n",
    "axes[8][0].set_ylim(0,300)\n",
    "\n",
    "sns.countplot(x='Installs temp',data = count_cat25,ax=axes[8][1])\n",
    "axes[8][1].yaxis.set_major_locator(ticker.LinearLocator(11))\n",
    "axes[8][1].set_xticklabels(axes[8][1].get_xticklabels(), rotation=30)\n",
    "axes[8][1].set_ylabel('Frekuensi')\n",
    "axes[8][1].set_title(\"Install Count PRODUCTIVITY\")\n",
    "axes[8][1].set_ylim(0,300)\n",
    "\n",
    "sns.countplot(x='Installs temp',data = count_cat26,ax=axes[8][2])\n",
    "axes[8][2].yaxis.set_major_locator(ticker.LinearLocator(11))\n",
    "axes[8][2].set_xticklabels(axes[8][2].get_xticklabels(), rotation=30)\n",
    "axes[8][2].set_ylabel('Frekuensi')\n",
    "axes[8][2].set_title(\"Install Count SHOPPING\")\n",
    "axes[8][2].set_ylim(0,300)\n",
    "\n",
    "sns.countplot(x='Installs temp',data = count_cat27,ax=axes[9][0])\n",
    "axes[9][0].yaxis.set_major_locator(ticker.LinearLocator(11))\n",
    "axes[9][0].set_xticklabels(axes[9][0].get_xticklabels(), rotation=30)\n",
    "axes[9][0].set_ylabel('Frekuensi')\n",
    "axes[9][0].set_title(\"Install Count SOCIAL\")\n",
    "axes[9][0].set_ylim(0,300)\n",
    "\n",
    "sns.countplot(x='Installs temp',data = count_cat28,ax=axes[9][1])\n",
    "axes[9][1].yaxis.set_major_locator(ticker.LinearLocator(11))\n",
    "axes[9][1].set_xticklabels(axes[9][1].get_xticklabels(), rotation=30)\n",
    "axes[9][1].set_ylabel('Frekuensi')\n",
    "axes[9][1].set_title(\"Install Count SPORTS\")\n",
    "axes[9][1].set_ylim(0,300)\n",
    "\n",
    "sns.countplot(x='Installs temp',data = count_cat29,ax=axes[9][2])\n",
    "axes[9][2].yaxis.set_major_locator(ticker.LinearLocator(11))\n",
    "axes[9][2].set_xticklabels(axes[9][2].get_xticklabels(), rotation=30)\n",
    "axes[9][2].set_ylabel('Frekuensi')\n",
    "axes[9][2].set_title(\"Install Count TOOLS\")\n",
    "axes[9][2].set_ylim(0,300)\n",
    "\n",
    "sns.countplot(x='Installs temp',data = count_cat30,ax=axes[10][0])\n",
    "axes[10][0].yaxis.set_major_locator(ticker.LinearLocator(11))\n",
    "axes[10][0].set_xticklabels(axes[10][0].get_xticklabels(), rotation=30)\n",
    "axes[10][0].set_ylabel('Frekuensi')\n",
    "axes[10][0].set_title(\"Install Count TRAVEL_AND_LOCAL\")\n",
    "axes[10][0].set_ylim(0,300)\n",
    "\n",
    "sns.countplot(x='Installs temp',data = count_cat31,ax=axes[10][1])\n",
    "axes[10][1].yaxis.set_major_locator(ticker.LinearLocator(11))\n",
    "axes[10][1].set_xticklabels(axes[10][1].get_xticklabels(), rotation=30)\n",
    "axes[10][1].set_ylabel('Frekuensi')\n",
    "axes[10][1].set_title(\"Install Count VIDEO_PLAYERS\")\n",
    "axes[10][1].set_ylim(0,300)\n",
    "\n",
    "sns.countplot(x='Installs temp',data = count_cat32,ax=axes[10][2])\n",
    "axes[10][2].yaxis.set_major_locator(ticker.LinearLocator(11))\n",
    "axes[10][2].set_xticklabels(axes[10][2].get_xticklabels(), rotation=30)\n",
    "axes[10][2].set_ylabel('Frekuensi')\n",
    "axes[10][2].set_title(\"Install Count WEATHER\")\n",
    "axes[10][2].set_ylim(0,300)"
   ]
  },
  {
   "cell_type": "markdown",
   "metadata": {},
   "source": [
    "### Size Vs Rating"
   ]
  },
  {
   "cell_type": "code",
   "execution_count": null,
   "metadata": {},
   "outputs": [],
   "source": [
    "# Size vs Rating\n",
    "sns.set_style(\"darkgrid\")\n",
    "ax = sns.jointplot(dfGapps['Size'], dfGapps['Rating'])"
   ]
  }
 ],
 "metadata": {
  "kernelspec": {
   "display_name": "Python 3",
   "language": "python",
   "name": "python3"
  },
  "language_info": {
   "codemirror_mode": {
    "name": "ipython",
    "version": 3
   },
   "file_extension": ".py",
   "mimetype": "text/x-python",
   "name": "python",
   "nbconvert_exporter": "python",
   "pygments_lexer": "ipython3",
   "version": "3.7.3"
  }
 },
 "nbformat": 4,
 "nbformat_minor": 2
}
