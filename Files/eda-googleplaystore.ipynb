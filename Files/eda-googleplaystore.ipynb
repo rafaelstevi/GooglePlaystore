{
 "cells": [
  {
   "cell_type": "markdown",
   "metadata": {},
   "source": [
    "# Exploratory Data Analysis Googleplaystore"
   ]
  },
  {
   "cell_type": "markdown",
   "metadata": {},
   "source": [
    "## Dataset Googleplaystore"
   ]
  },
  {
   "cell_type": "markdown",
   "metadata": {},
   "source": [
    "Dataset Googleplaystore teridiri dari :\n",
    "1. Googleplaystore Apps : googleplaystore\n",
    "2. Googleplaystore user review : googleplaystore_user_review\n",
    "\n",
    "Tipe kedua dataset tersebut adalah csv"
   ]
  },
  {
   "cell_type": "markdown",
   "metadata": {},
   "source": [
    "## Importing library & Dataset"
   ]
  },
  {
   "cell_type": "code",
   "execution_count": 1,
   "metadata": {},
   "outputs": [
    {
     "data": {
      "text/html": [
       "        <script type=\"text/javascript\">\n",
       "        window.PlotlyConfig = {MathJaxConfig: 'local'};\n",
       "        if (window.MathJax) {MathJax.Hub.Config({SVG: {font: \"STIX-Web\"}});}\n",
       "        if (typeof require !== 'undefined') {\n",
       "        require.undef(\"plotly\");\n",
       "        requirejs.config({\n",
       "            paths: {\n",
       "                'plotly': ['https://cdn.plot.ly/plotly-latest.min']\n",
       "            }\n",
       "        });\n",
       "        require(['plotly'], function(Plotly) {\n",
       "            window._Plotly = Plotly;\n",
       "        });\n",
       "        }\n",
       "        </script>\n",
       "        "
      ]
     },
     "metadata": {},
     "output_type": "display_data"
    }
   ],
   "source": [
    "# Import library\n",
    "import matplotlib.pyplot as plt\n",
    "%matplotlib inline\n",
    "import seaborn as sns\n",
    "import numpy as np\n",
    "import matplotlib.ticker as ticker\n",
    "import pandas as pd\n",
    "\n",
    "import plotly\n",
    "# connected=True untuk memastikan versi plotyly uptodate\n",
    "plotly.offline.init_notebook_mode(connected=True)\n",
    "import plotly.graph_objs as go\n",
    "import plotly.figure_factory as ff\n",
    "\n",
    "# Import data\n",
    "dfGapps = pd.read_csv('dataset/googleplaystore.csv')\n",
    "dfGUserReview = pd.read_csv('dataset/googleplaystore_user_reviews.csv')\n"
   ]
  },
  {
   "cell_type": "markdown",
   "metadata": {},
   "source": [
    "## Googleplaystore Apps"
   ]
  },
  {
   "cell_type": "markdown",
   "metadata": {},
   "source": [
    "Googleplaystore Apps adalah dataset mengenai aplikasi yang terdapat di googleplaystore dan terdiri dari :"
   ]
  },
  {
   "cell_type": "code",
   "execution_count": 2,
   "metadata": {},
   "outputs": [
    {
     "data": {
      "text/plain": [
       "App                object\n",
       "Category           object\n",
       "Rating            float64\n",
       "Reviews            object\n",
       "Size               object\n",
       "Installs           object\n",
       "Type               object\n",
       "Price              object\n",
       "Content Rating     object\n",
       "Genres             object\n",
       "Last Updated       object\n",
       "Current Ver        object\n",
       "Android Ver        object\n",
       "dtype: object"
      ]
     },
     "execution_count": 2,
     "metadata": {},
     "output_type": "execute_result"
    }
   ],
   "source": [
    "# Baris beserta tipe data\n",
    "dfGapps.dtypes"
   ]
  },
  {
   "cell_type": "code",
   "execution_count": 3,
   "metadata": {},
   "outputs": [
    {
     "data": {
      "text/plain": [
       "(10841, 13)"
      ]
     },
     "execution_count": 3,
     "metadata": {},
     "output_type": "execute_result"
    }
   ],
   "source": [
    "# Jumlah baris dan kolom\n",
    "dfGapps.shape"
   ]
  },
  {
   "cell_type": "code",
   "execution_count": 4,
   "metadata": {},
   "outputs": [
    {
     "data": {
      "text/html": [
       "<div>\n",
       "<style scoped>\n",
       "    .dataframe tbody tr th:only-of-type {\n",
       "        vertical-align: middle;\n",
       "    }\n",
       "\n",
       "    .dataframe tbody tr th {\n",
       "        vertical-align: top;\n",
       "    }\n",
       "\n",
       "    .dataframe thead th {\n",
       "        text-align: right;\n",
       "    }\n",
       "</style>\n",
       "<table border=\"1\" class=\"dataframe\">\n",
       "  <thead>\n",
       "    <tr style=\"text-align: right;\">\n",
       "      <th></th>\n",
       "      <th>App</th>\n",
       "      <th>Category</th>\n",
       "      <th>Rating</th>\n",
       "      <th>Reviews</th>\n",
       "      <th>Size</th>\n",
       "      <th>Installs</th>\n",
       "      <th>Type</th>\n",
       "      <th>Price</th>\n",
       "      <th>Content Rating</th>\n",
       "      <th>Genres</th>\n",
       "      <th>Last Updated</th>\n",
       "      <th>Current Ver</th>\n",
       "      <th>Android Ver</th>\n",
       "    </tr>\n",
       "  </thead>\n",
       "  <tbody>\n",
       "    <tr>\n",
       "      <th>0</th>\n",
       "      <td>Photo Editor &amp; Candy Camera &amp; Grid &amp; ScrapBook</td>\n",
       "      <td>ART_AND_DESIGN</td>\n",
       "      <td>4.1</td>\n",
       "      <td>159</td>\n",
       "      <td>19M</td>\n",
       "      <td>10,000+</td>\n",
       "      <td>Free</td>\n",
       "      <td>0</td>\n",
       "      <td>Everyone</td>\n",
       "      <td>Art &amp; Design</td>\n",
       "      <td>January 7, 2018</td>\n",
       "      <td>1.0.0</td>\n",
       "      <td>4.0.3 and up</td>\n",
       "    </tr>\n",
       "    <tr>\n",
       "      <th>1</th>\n",
       "      <td>Coloring book moana</td>\n",
       "      <td>ART_AND_DESIGN</td>\n",
       "      <td>3.9</td>\n",
       "      <td>967</td>\n",
       "      <td>14M</td>\n",
       "      <td>500,000+</td>\n",
       "      <td>Free</td>\n",
       "      <td>0</td>\n",
       "      <td>Everyone</td>\n",
       "      <td>Art &amp; Design;Pretend Play</td>\n",
       "      <td>January 15, 2018</td>\n",
       "      <td>2.0.0</td>\n",
       "      <td>4.0.3 and up</td>\n",
       "    </tr>\n",
       "    <tr>\n",
       "      <th>2</th>\n",
       "      <td>U Launcher Lite – FREE Live Cool Themes, Hide ...</td>\n",
       "      <td>ART_AND_DESIGN</td>\n",
       "      <td>4.7</td>\n",
       "      <td>87510</td>\n",
       "      <td>8.7M</td>\n",
       "      <td>5,000,000+</td>\n",
       "      <td>Free</td>\n",
       "      <td>0</td>\n",
       "      <td>Everyone</td>\n",
       "      <td>Art &amp; Design</td>\n",
       "      <td>August 1, 2018</td>\n",
       "      <td>1.2.4</td>\n",
       "      <td>4.0.3 and up</td>\n",
       "    </tr>\n",
       "    <tr>\n",
       "      <th>3</th>\n",
       "      <td>Sketch - Draw &amp; Paint</td>\n",
       "      <td>ART_AND_DESIGN</td>\n",
       "      <td>4.5</td>\n",
       "      <td>215644</td>\n",
       "      <td>25M</td>\n",
       "      <td>50,000,000+</td>\n",
       "      <td>Free</td>\n",
       "      <td>0</td>\n",
       "      <td>Teen</td>\n",
       "      <td>Art &amp; Design</td>\n",
       "      <td>June 8, 2018</td>\n",
       "      <td>Varies with device</td>\n",
       "      <td>4.2 and up</td>\n",
       "    </tr>\n",
       "    <tr>\n",
       "      <th>4</th>\n",
       "      <td>Pixel Draw - Number Art Coloring Book</td>\n",
       "      <td>ART_AND_DESIGN</td>\n",
       "      <td>4.3</td>\n",
       "      <td>967</td>\n",
       "      <td>2.8M</td>\n",
       "      <td>100,000+</td>\n",
       "      <td>Free</td>\n",
       "      <td>0</td>\n",
       "      <td>Everyone</td>\n",
       "      <td>Art &amp; Design;Creativity</td>\n",
       "      <td>June 20, 2018</td>\n",
       "      <td>1.1</td>\n",
       "      <td>4.4 and up</td>\n",
       "    </tr>\n",
       "  </tbody>\n",
       "</table>\n",
       "</div>"
      ],
      "text/plain": [
       "                                                 App        Category  Rating  \\\n",
       "0     Photo Editor & Candy Camera & Grid & ScrapBook  ART_AND_DESIGN     4.1   \n",
       "1                                Coloring book moana  ART_AND_DESIGN     3.9   \n",
       "2  U Launcher Lite – FREE Live Cool Themes, Hide ...  ART_AND_DESIGN     4.7   \n",
       "3                              Sketch - Draw & Paint  ART_AND_DESIGN     4.5   \n",
       "4              Pixel Draw - Number Art Coloring Book  ART_AND_DESIGN     4.3   \n",
       "\n",
       "  Reviews  Size     Installs  Type Price Content Rating  \\\n",
       "0     159   19M      10,000+  Free     0       Everyone   \n",
       "1     967   14M     500,000+  Free     0       Everyone   \n",
       "2   87510  8.7M   5,000,000+  Free     0       Everyone   \n",
       "3  215644   25M  50,000,000+  Free     0           Teen   \n",
       "4     967  2.8M     100,000+  Free     0       Everyone   \n",
       "\n",
       "                      Genres      Last Updated         Current Ver  \\\n",
       "0               Art & Design   January 7, 2018               1.0.0   \n",
       "1  Art & Design;Pretend Play  January 15, 2018               2.0.0   \n",
       "2               Art & Design    August 1, 2018               1.2.4   \n",
       "3               Art & Design      June 8, 2018  Varies with device   \n",
       "4    Art & Design;Creativity     June 20, 2018                 1.1   \n",
       "\n",
       "    Android Ver  \n",
       "0  4.0.3 and up  \n",
       "1  4.0.3 and up  \n",
       "2  4.0.3 and up  \n",
       "3    4.2 and up  \n",
       "4    4.4 and up  "
      ]
     },
     "execution_count": 4,
     "metadata": {},
     "output_type": "execute_result"
    }
   ],
   "source": [
    "# Menampilkan dataset\n",
    "dfGapps.head()"
   ]
  },
  {
   "cell_type": "markdown",
   "metadata": {},
   "source": [
    "## Googleplaystore User Review"
   ]
  },
  {
   "cell_type": "markdown",
   "metadata": {},
   "source": [
    "Googleplaystore Usert Review adalah dataset mengenaai review dari tiap user terhadap aplikasi dalam Googleplaystore dan terdiri dari :"
   ]
  },
  {
   "cell_type": "code",
   "execution_count": 5,
   "metadata": {},
   "outputs": [
    {
     "data": {
      "text/plain": [
       "App                        object\n",
       "Translated_Review          object\n",
       "Sentiment                  object\n",
       "Sentiment_Polarity        float64\n",
       "Sentiment_Subjectivity    float64\n",
       "dtype: object"
      ]
     },
     "execution_count": 5,
     "metadata": {},
     "output_type": "execute_result"
    }
   ],
   "source": [
    "# Baris dan tipe data\n",
    "dfGUserReview.dtypes"
   ]
  },
  {
   "cell_type": "code",
   "execution_count": 6,
   "metadata": {},
   "outputs": [
    {
     "data": {
      "text/plain": [
       "(64295, 5)"
      ]
     },
     "execution_count": 6,
     "metadata": {},
     "output_type": "execute_result"
    }
   ],
   "source": [
    "# Jumlah baris dan kolom\n",
    "dfGUserReview.shape"
   ]
  },
  {
   "cell_type": "code",
   "execution_count": 7,
   "metadata": {},
   "outputs": [
    {
     "data": {
      "text/html": [
       "<div>\n",
       "<style scoped>\n",
       "    .dataframe tbody tr th:only-of-type {\n",
       "        vertical-align: middle;\n",
       "    }\n",
       "\n",
       "    .dataframe tbody tr th {\n",
       "        vertical-align: top;\n",
       "    }\n",
       "\n",
       "    .dataframe thead th {\n",
       "        text-align: right;\n",
       "    }\n",
       "</style>\n",
       "<table border=\"1\" class=\"dataframe\">\n",
       "  <thead>\n",
       "    <tr style=\"text-align: right;\">\n",
       "      <th></th>\n",
       "      <th>App</th>\n",
       "      <th>Translated_Review</th>\n",
       "      <th>Sentiment</th>\n",
       "      <th>Sentiment_Polarity</th>\n",
       "      <th>Sentiment_Subjectivity</th>\n",
       "    </tr>\n",
       "  </thead>\n",
       "  <tbody>\n",
       "    <tr>\n",
       "      <th>0</th>\n",
       "      <td>10 Best Foods for You</td>\n",
       "      <td>I like eat delicious food. That's I'm cooking ...</td>\n",
       "      <td>Positive</td>\n",
       "      <td>1.00</td>\n",
       "      <td>0.533333</td>\n",
       "    </tr>\n",
       "    <tr>\n",
       "      <th>1</th>\n",
       "      <td>10 Best Foods for You</td>\n",
       "      <td>This help eating healthy exercise regular basis</td>\n",
       "      <td>Positive</td>\n",
       "      <td>0.25</td>\n",
       "      <td>0.288462</td>\n",
       "    </tr>\n",
       "    <tr>\n",
       "      <th>2</th>\n",
       "      <td>10 Best Foods for You</td>\n",
       "      <td>NaN</td>\n",
       "      <td>NaN</td>\n",
       "      <td>NaN</td>\n",
       "      <td>NaN</td>\n",
       "    </tr>\n",
       "    <tr>\n",
       "      <th>3</th>\n",
       "      <td>10 Best Foods for You</td>\n",
       "      <td>Works great especially going grocery store</td>\n",
       "      <td>Positive</td>\n",
       "      <td>0.40</td>\n",
       "      <td>0.875000</td>\n",
       "    </tr>\n",
       "    <tr>\n",
       "      <th>4</th>\n",
       "      <td>10 Best Foods for You</td>\n",
       "      <td>Best idea us</td>\n",
       "      <td>Positive</td>\n",
       "      <td>1.00</td>\n",
       "      <td>0.300000</td>\n",
       "    </tr>\n",
       "  </tbody>\n",
       "</table>\n",
       "</div>"
      ],
      "text/plain": [
       "                     App                                  Translated_Review  \\\n",
       "0  10 Best Foods for You  I like eat delicious food. That's I'm cooking ...   \n",
       "1  10 Best Foods for You    This help eating healthy exercise regular basis   \n",
       "2  10 Best Foods for You                                                NaN   \n",
       "3  10 Best Foods for You         Works great especially going grocery store   \n",
       "4  10 Best Foods for You                                       Best idea us   \n",
       "\n",
       "  Sentiment  Sentiment_Polarity  Sentiment_Subjectivity  \n",
       "0  Positive                1.00                0.533333  \n",
       "1  Positive                0.25                0.288462  \n",
       "2       NaN                 NaN                     NaN  \n",
       "3  Positive                0.40                0.875000  \n",
       "4  Positive                1.00                0.300000  "
      ]
     },
     "execution_count": 7,
     "metadata": {},
     "output_type": "execute_result"
    }
   ],
   "source": [
    "# menampilkan dataset\n",
    "dfGUserReview.head()"
   ]
  },
  {
   "cell_type": "markdown",
   "metadata": {},
   "source": [
    "## Menghitung Keseluruhan Review dari dfGUserReview"
   ]
  },
  {
   "cell_type": "code",
   "execution_count": 8,
   "metadata": {},
   "outputs": [
    {
     "name": "stdout",
     "output_type": "stream",
     "text": [
      "Angry Birds Classic                                   320\n",
      "Bowmasters                                            320\n",
      "CBS Sports App - Scores, News, Stats & Watch Live     320\n",
      "8 Ball Pool                                           300\n",
      "Helix Jump                                            300\n",
      "Calorie Counter - MyFitnessPal                        260\n",
      "Bubble Shooter                                        260\n",
      "Duolingo: Learn Languages Free                        240\n",
      "Candy Crush Saga                                      240\n",
      "ESPN                                                  240\n",
      "Garena Free Fire                                      240\n",
      "DEAD TARGET: FPS Zombie Apocalypse Survival Games     240\n",
      "Flow Free                                             220\n",
      "Block Puzzle                                          220\n",
      "Google Photos                                         220\n",
      "Farm Heroes Saga                                      220\n",
      "Hill Climb Racing                                     220\n",
      "Granny                                                220\n",
      "Hangouts                                              220\n",
      "Bleacher Report: sports news, scores, & highlights    200\n",
      "Agar.io                                               200\n",
      "Alto's Adventure                                      200\n",
      "Calorie Counter - MyNetDiary                          200\n",
      "Calorie Counter - Macros                              200\n",
      "10 Best Foods for You                                 200\n",
      "Calorie Counter by FatSecret                          200\n",
      "Amazon Shopping                                       180\n",
      "Episode - Choose Your Story                           180\n",
      "Galaxy Attack: Alien Shooter                          180\n",
      "HotelTonight: Book amazing deals at great hotels      180\n",
      "                                                     ... \n",
      "11st                                                   40\n",
      "Flashlight & LED Torch                                 40\n",
      "Gametime - Tickets to Sports, Concerts, Theater        40\n",
      "English to Urdu Dictionary                             40\n",
      "Dating App, Flirt & Chat : W-Match                     40\n",
      "Frontback - Social Photos                              40\n",
      "Content Transfer                                       40\n",
      "Free VIN Report for Used Cars                          40\n",
      "Chapters: Interactive Stories                          40\n",
      "Blood Donor                                            40\n",
      "Homes.com 🏠 For Sale, Rent                             40\n",
      "Hotstar                                                40\n",
      "Horses Live Wallpaper                                  40\n",
      "Events High - Meet Your City!                          40\n",
      "BioLife Plasma Services                                40\n",
      "Cash, Inc. Money Clicker Game & Business Adventure     40\n",
      "Cooking Channel                                        40\n",
      "Domofond Недвижимость. Купить, снять квартиру.         39\n",
      "Dr. Oetker Rezeptideen                                 38\n",
      "591房屋交易-香港                                             38\n",
      "Calculator - free calculator ,multi calculator app     38\n",
      "Acupuncture Assistant                                  34\n",
      "Caf - Mon Compte                                       33\n",
      "FOSSIL Q: DESIGN YOUR DIAL                             33\n",
      "Azpen eReader                                          32\n",
      "Easy Healthy Recipes                                   31\n",
      "Dresses Ideas & Fashions +3000                         31\n",
      "Detector de Radares Gratis                             31\n",
      "Drawing Clothes Fashion Ideas                          30\n",
      "Easy Hair Style Design                                 30\n",
      "Name: App, Length: 1074, dtype: int64\n"
     ]
    }
   ],
   "source": [
    "count = dfGUserReview['App'].value_counts() \n",
    "print(count) "
   ]
  },
  {
   "cell_type": "markdown",
   "metadata": {},
   "source": [
    "### Membersihkan data kosong dari dataset Googleplaystore User Review "
   ]
  },
  {
   "cell_type": "markdown",
   "metadata": {},
   "source": [
    "Googleplaystore User Review memiliki banyak data yang nilainya kosong atau NaN dan tidak memiliki arti untuk disimpan kedalam dataset,\n",
    "Sehingga data tersebut harus dibuang untuk meringankan pengolahan data."
   ]
  },
  {
   "cell_type": "code",
   "execution_count": 9,
   "metadata": {},
   "outputs": [
    {
     "name": "stdout",
     "output_type": "stream",
     "text": [
      "\n",
      "Jumlah baris sebelum mendrop baris Null :  64295\n",
      "Panjang dataframe Sebelumnya: 64295 \n",
      "Panjang dataframe Setelah didrop: 37432 \n",
      "Jumlah baris dengan Nilai NaN minimum 4 :  26863\n"
     ]
    }
   ],
   "source": [
    "# membuat tampungan baru untuk diolah\n",
    "dfNaN = dfGUserReview\n",
    "\n",
    "# menampilkan jumlah baris sebelum didrop\n",
    "print(\"\\nJumlah baris sebelum mendrop baris Null : \", len(dfNaN)) \n",
    "\n",
    "# mendrop baris yang memiliki nilai NaN minimum 4 dari tampungan ke-2\n",
    "dfNaNDrop = dfNaN.dropna(axis = 0, how ='all', thresh=4) \n",
    "\n",
    "# Menampilkan perbandingan dari tampungan ke-1 dan tampungan ke-2 setelah di drop\n",
    "print(\"Panjang dataframe Sebelumnya:\", len(dfNaN), \"\\nPanjang dataframe Setelah didrop:\",  \n",
    "       len(dfNaNDrop), \"\\nJumlah baris dengan Nilai NaN minimum 4 : \", \n",
    "       (len(dfNaN)-len(dfNaNDrop)))\n",
    "\n",
    "# memasukan nilai dari data yang sudah dibersihkan dari nilai NaN ke dfGUserReview\n",
    "dfGUserReview = dfNaNDrop\n",
    "\n",
    "# Mereset Index dari dfGUserReview\n",
    "dfGUserReview.set_index('App', inplace=True)\n",
    "dfGUserReview.reset_index(inplace=True)"
   ]
  },
  {
   "cell_type": "markdown",
   "metadata": {},
   "source": [
    "## Mencari value unik dari dataset Googleplaystore Apps"
   ]
  },
  {
   "cell_type": "markdown",
   "metadata": {},
   "source": [
    "Dalam Dataset GooglePlaystore terdapat value-value unik yabg dapat ditamplikan untuk mendapat gambaran mengenai value yang ada dari tiap kolom.\n",
    "Berikut ini adalah value unik dari tiap kolom :"
   ]
  },
  {
   "cell_type": "markdown",
   "metadata": {},
   "source": [
    "### Category"
   ]
  },
  {
   "cell_type": "code",
   "execution_count": 10,
   "metadata": {},
   "outputs": [
    {
     "data": {
      "text/plain": [
       "array(['ART_AND_DESIGN', 'AUTO_AND_VEHICLES', 'BEAUTY',\n",
       "       'BOOKS_AND_REFERENCE', 'BUSINESS', 'COMICS', 'COMMUNICATION',\n",
       "       'DATING', 'EDUCATION', 'ENTERTAINMENT', 'EVENTS', 'FINANCE',\n",
       "       'FOOD_AND_DRINK', 'HEALTH_AND_FITNESS', 'HOUSE_AND_HOME',\n",
       "       'LIBRARIES_AND_DEMO', 'LIFESTYLE', 'GAME', 'FAMILY', 'MEDICAL',\n",
       "       'SOCIAL', 'SHOPPING', 'PHOTOGRAPHY', 'SPORTS', 'TRAVEL_AND_LOCAL',\n",
       "       'TOOLS', 'PERSONALIZATION', 'PRODUCTIVITY', 'PARENTING', 'WEATHER',\n",
       "       'VIDEO_PLAYERS', 'NEWS_AND_MAGAZINES', 'MAPS_AND_NAVIGATION',\n",
       "       '1.9'], dtype=object)"
      ]
     },
     "execution_count": 10,
     "metadata": {},
     "output_type": "execute_result"
    }
   ],
   "source": [
    "# nilai unik dari kolom kategori\n",
    "dfGapps['Category'].unique()"
   ]
  },
  {
   "cell_type": "markdown",
   "metadata": {},
   "source": [
    "Dalam kolom kategori ditemukan value yang tidak sesuai dengan keseluruhan data yang ada yaitu '1.9', maka harus ditemukan baris keberapa yang memiliki nilai tersebut."
   ]
  },
  {
   "cell_type": "code",
   "execution_count": 11,
   "metadata": {},
   "outputs": [
    {
     "data": {
      "text/html": [
       "<div>\n",
       "<style scoped>\n",
       "    .dataframe tbody tr th:only-of-type {\n",
       "        vertical-align: middle;\n",
       "    }\n",
       "\n",
       "    .dataframe tbody tr th {\n",
       "        vertical-align: top;\n",
       "    }\n",
       "\n",
       "    .dataframe thead th {\n",
       "        text-align: right;\n",
       "    }\n",
       "</style>\n",
       "<table border=\"1\" class=\"dataframe\">\n",
       "  <thead>\n",
       "    <tr style=\"text-align: right;\">\n",
       "      <th></th>\n",
       "      <th>App</th>\n",
       "      <th>Category</th>\n",
       "      <th>Rating</th>\n",
       "      <th>Reviews</th>\n",
       "      <th>Size</th>\n",
       "      <th>Installs</th>\n",
       "      <th>Type</th>\n",
       "      <th>Price</th>\n",
       "      <th>Content Rating</th>\n",
       "      <th>Genres</th>\n",
       "      <th>Last Updated</th>\n",
       "      <th>Current Ver</th>\n",
       "      <th>Android Ver</th>\n",
       "    </tr>\n",
       "  </thead>\n",
       "  <tbody>\n",
       "    <tr>\n",
       "      <th>10472</th>\n",
       "      <td>Life Made WI-Fi Touchscreen Photo Frame</td>\n",
       "      <td>1.9</td>\n",
       "      <td>19.0</td>\n",
       "      <td>3.0M</td>\n",
       "      <td>1,000+</td>\n",
       "      <td>Free</td>\n",
       "      <td>0</td>\n",
       "      <td>Everyone</td>\n",
       "      <td>NaN</td>\n",
       "      <td>February 11, 2018</td>\n",
       "      <td>1.0.19</td>\n",
       "      <td>4.0 and up</td>\n",
       "      <td>NaN</td>\n",
       "    </tr>\n",
       "  </tbody>\n",
       "</table>\n",
       "</div>"
      ],
      "text/plain": [
       "                                           App Category  Rating Reviews  \\\n",
       "10472  Life Made WI-Fi Touchscreen Photo Frame      1.9    19.0    3.0M   \n",
       "\n",
       "         Size Installs Type     Price Content Rating             Genres  \\\n",
       "10472  1,000+     Free    0  Everyone            NaN  February 11, 2018   \n",
       "\n",
       "      Last Updated Current Ver Android Ver  \n",
       "10472       1.0.19  4.0 and up         NaN  "
      ]
     },
     "execution_count": 11,
     "metadata": {},
     "output_type": "execute_result"
    }
   ],
   "source": [
    "dfGapps[dfGapps['Category'] == '1.9']"
   ]
  },
  {
   "cell_type": "markdown",
   "metadata": {},
   "source": [
    "dalam baris tersebut terlihat ada pergeseran data sehingga baris dan kolom tidak sinkron satu dengan yang lain. untuk mengatasi hal tersebut digunakan shift method yang ada dalam pandas."
   ]
  },
  {
   "cell_type": "code",
   "execution_count": 12,
   "metadata": {},
   "outputs": [
    {
     "data": {
      "text/html": [
       "<div>\n",
       "<style scoped>\n",
       "    .dataframe tbody tr th:only-of-type {\n",
       "        vertical-align: middle;\n",
       "    }\n",
       "\n",
       "    .dataframe tbody tr th {\n",
       "        vertical-align: top;\n",
       "    }\n",
       "\n",
       "    .dataframe thead th {\n",
       "        text-align: right;\n",
       "    }\n",
       "</style>\n",
       "<table border=\"1\" class=\"dataframe\">\n",
       "  <thead>\n",
       "    <tr style=\"text-align: right;\">\n",
       "      <th></th>\n",
       "      <th>App</th>\n",
       "      <th>Category</th>\n",
       "      <th>Rating</th>\n",
       "      <th>Reviews</th>\n",
       "      <th>Size</th>\n",
       "      <th>Installs</th>\n",
       "      <th>Type</th>\n",
       "      <th>Price</th>\n",
       "      <th>Content Rating</th>\n",
       "      <th>Genres</th>\n",
       "      <th>Last Updated</th>\n",
       "      <th>Current Ver</th>\n",
       "      <th>Android Ver</th>\n",
       "    </tr>\n",
       "  </thead>\n",
       "  <tbody>\n",
       "    <tr>\n",
       "      <th>10470</th>\n",
       "      <td>Jazz Wi-Fi</td>\n",
       "      <td>COMMUNICATION</td>\n",
       "      <td>3.4</td>\n",
       "      <td>49</td>\n",
       "      <td>4.0M</td>\n",
       "      <td>10,000+</td>\n",
       "      <td>Free</td>\n",
       "      <td>0</td>\n",
       "      <td>Everyone</td>\n",
       "      <td>Communication</td>\n",
       "      <td>February 10, 2017</td>\n",
       "      <td>0.1</td>\n",
       "      <td>2.3 and up</td>\n",
       "    </tr>\n",
       "    <tr>\n",
       "      <th>10471</th>\n",
       "      <td>Xposed Wi-Fi-Pwd</td>\n",
       "      <td>PERSONALIZATION</td>\n",
       "      <td>3.5</td>\n",
       "      <td>1042</td>\n",
       "      <td>404k</td>\n",
       "      <td>100,000+</td>\n",
       "      <td>Free</td>\n",
       "      <td>0</td>\n",
       "      <td>Everyone</td>\n",
       "      <td>Personalization</td>\n",
       "      <td>August 5, 2014</td>\n",
       "      <td>3.0.0</td>\n",
       "      <td>4.0.3 and up</td>\n",
       "    </tr>\n",
       "    <tr>\n",
       "      <th>10472</th>\n",
       "      <td>Life Made WI-Fi Touchscreen Photo Frame</td>\n",
       "      <td>NaN</td>\n",
       "      <td>1.9</td>\n",
       "      <td>19</td>\n",
       "      <td>3.0M</td>\n",
       "      <td>1,000+</td>\n",
       "      <td>Free</td>\n",
       "      <td>0</td>\n",
       "      <td>Everyone</td>\n",
       "      <td>NaN</td>\n",
       "      <td>February 11, 2018</td>\n",
       "      <td>1.0.19</td>\n",
       "      <td>4.0 and up</td>\n",
       "    </tr>\n",
       "    <tr>\n",
       "      <th>10473</th>\n",
       "      <td>osmino Wi-Fi: free WiFi</td>\n",
       "      <td>TOOLS</td>\n",
       "      <td>4.2</td>\n",
       "      <td>134203</td>\n",
       "      <td>4.1M</td>\n",
       "      <td>10,000,000+</td>\n",
       "      <td>Free</td>\n",
       "      <td>0</td>\n",
       "      <td>Everyone</td>\n",
       "      <td>Tools</td>\n",
       "      <td>August 7, 2018</td>\n",
       "      <td>6.06.14</td>\n",
       "      <td>4.4 and up</td>\n",
       "    </tr>\n",
       "    <tr>\n",
       "      <th>10474</th>\n",
       "      <td>Sat-Fi Voice</td>\n",
       "      <td>COMMUNICATION</td>\n",
       "      <td>3.4</td>\n",
       "      <td>37</td>\n",
       "      <td>14M</td>\n",
       "      <td>1,000+</td>\n",
       "      <td>Free</td>\n",
       "      <td>0</td>\n",
       "      <td>Everyone</td>\n",
       "      <td>Communication</td>\n",
       "      <td>November 21, 2014</td>\n",
       "      <td>2.2.1.5</td>\n",
       "      <td>2.2 and up</td>\n",
       "    </tr>\n",
       "  </tbody>\n",
       "</table>\n",
       "</div>"
      ],
      "text/plain": [
       "                                           App         Category Rating  \\\n",
       "10470                               Jazz Wi-Fi    COMMUNICATION    3.4   \n",
       "10471                         Xposed Wi-Fi-Pwd  PERSONALIZATION    3.5   \n",
       "10472  Life Made WI-Fi Touchscreen Photo Frame              NaN    1.9   \n",
       "10473                  osmino Wi-Fi: free WiFi            TOOLS    4.2   \n",
       "10474                             Sat-Fi Voice    COMMUNICATION    3.4   \n",
       "\n",
       "      Reviews  Size     Installs  Type Price Content Rating           Genres  \\\n",
       "10470      49  4.0M      10,000+  Free     0       Everyone    Communication   \n",
       "10471    1042  404k     100,000+  Free     0       Everyone  Personalization   \n",
       "10472      19  3.0M       1,000+  Free     0       Everyone              NaN   \n",
       "10473  134203  4.1M  10,000,000+  Free     0       Everyone            Tools   \n",
       "10474      37   14M       1,000+  Free     0       Everyone    Communication   \n",
       "\n",
       "            Last Updated Current Ver   Android Ver  \n",
       "10470  February 10, 2017         0.1    2.3 and up  \n",
       "10471     August 5, 2014       3.0.0  4.0.3 and up  \n",
       "10472  February 11, 2018      1.0.19    4.0 and up  \n",
       "10473     August 7, 2018     6.06.14    4.4 and up  \n",
       "10474  November 21, 2014     2.2.1.5    2.2 and up  "
      ]
     },
     "execution_count": 12,
     "metadata": {},
     "output_type": "execute_result"
    }
   ],
   "source": [
    "# Menggunakan metode shifting untuk mengeser data ke kanan\n",
    "dfGapps.iloc[10472,1:] = dfGapps.iloc[10472,1:].shift(1)\n",
    "dfGapps[10470:10475]"
   ]
  },
  {
   "cell_type": "markdown",
   "metadata": {},
   "source": [
    "Setelah di lihat pada playstore App \"Life Made WI-Fi Touchscreen Photo Frame\" Memiliki Category Lifestyle"
   ]
  },
  {
   "cell_type": "code",
   "execution_count": 13,
   "metadata": {},
   "outputs": [
    {
     "data": {
      "text/html": [
       "<div>\n",
       "<style scoped>\n",
       "    .dataframe tbody tr th:only-of-type {\n",
       "        vertical-align: middle;\n",
       "    }\n",
       "\n",
       "    .dataframe tbody tr th {\n",
       "        vertical-align: top;\n",
       "    }\n",
       "\n",
       "    .dataframe thead th {\n",
       "        text-align: right;\n",
       "    }\n",
       "</style>\n",
       "<table border=\"1\" class=\"dataframe\">\n",
       "  <thead>\n",
       "    <tr style=\"text-align: right;\">\n",
       "      <th></th>\n",
       "      <th>App</th>\n",
       "      <th>Category</th>\n",
       "      <th>Rating</th>\n",
       "      <th>Reviews</th>\n",
       "      <th>Size</th>\n",
       "      <th>Installs</th>\n",
       "      <th>Type</th>\n",
       "      <th>Price</th>\n",
       "      <th>Content Rating</th>\n",
       "      <th>Genres</th>\n",
       "      <th>Last Updated</th>\n",
       "      <th>Current Ver</th>\n",
       "      <th>Android Ver</th>\n",
       "    </tr>\n",
       "  </thead>\n",
       "  <tbody>\n",
       "    <tr>\n",
       "      <th>10470</th>\n",
       "      <td>Jazz Wi-Fi</td>\n",
       "      <td>COMMUNICATION</td>\n",
       "      <td>3.4</td>\n",
       "      <td>49</td>\n",
       "      <td>4.0M</td>\n",
       "      <td>10,000+</td>\n",
       "      <td>Free</td>\n",
       "      <td>0</td>\n",
       "      <td>Everyone</td>\n",
       "      <td>Communication</td>\n",
       "      <td>February 10, 2017</td>\n",
       "      <td>0.1</td>\n",
       "      <td>2.3 and up</td>\n",
       "    </tr>\n",
       "    <tr>\n",
       "      <th>10471</th>\n",
       "      <td>Xposed Wi-Fi-Pwd</td>\n",
       "      <td>PERSONALIZATION</td>\n",
       "      <td>3.5</td>\n",
       "      <td>1042</td>\n",
       "      <td>404k</td>\n",
       "      <td>100,000+</td>\n",
       "      <td>Free</td>\n",
       "      <td>0</td>\n",
       "      <td>Everyone</td>\n",
       "      <td>Personalization</td>\n",
       "      <td>August 5, 2014</td>\n",
       "      <td>3.0.0</td>\n",
       "      <td>4.0.3 and up</td>\n",
       "    </tr>\n",
       "    <tr>\n",
       "      <th>10472</th>\n",
       "      <td>Life Made WI-Fi Touchscreen Photo Frame</td>\n",
       "      <td>LIFESTYLE</td>\n",
       "      <td>1.9</td>\n",
       "      <td>19</td>\n",
       "      <td>3.0M</td>\n",
       "      <td>1,000+</td>\n",
       "      <td>Free</td>\n",
       "      <td>0</td>\n",
       "      <td>Everyone</td>\n",
       "      <td>NaN</td>\n",
       "      <td>February 11, 2018</td>\n",
       "      <td>1.0.19</td>\n",
       "      <td>4.0 and up</td>\n",
       "    </tr>\n",
       "    <tr>\n",
       "      <th>10473</th>\n",
       "      <td>osmino Wi-Fi: free WiFi</td>\n",
       "      <td>TOOLS</td>\n",
       "      <td>4.2</td>\n",
       "      <td>134203</td>\n",
       "      <td>4.1M</td>\n",
       "      <td>10,000,000+</td>\n",
       "      <td>Free</td>\n",
       "      <td>0</td>\n",
       "      <td>Everyone</td>\n",
       "      <td>Tools</td>\n",
       "      <td>August 7, 2018</td>\n",
       "      <td>6.06.14</td>\n",
       "      <td>4.4 and up</td>\n",
       "    </tr>\n",
       "    <tr>\n",
       "      <th>10474</th>\n",
       "      <td>Sat-Fi Voice</td>\n",
       "      <td>COMMUNICATION</td>\n",
       "      <td>3.4</td>\n",
       "      <td>37</td>\n",
       "      <td>14M</td>\n",
       "      <td>1,000+</td>\n",
       "      <td>Free</td>\n",
       "      <td>0</td>\n",
       "      <td>Everyone</td>\n",
       "      <td>Communication</td>\n",
       "      <td>November 21, 2014</td>\n",
       "      <td>2.2.1.5</td>\n",
       "      <td>2.2 and up</td>\n",
       "    </tr>\n",
       "  </tbody>\n",
       "</table>\n",
       "</div>"
      ],
      "text/plain": [
       "                                           App         Category Rating  \\\n",
       "10470                               Jazz Wi-Fi    COMMUNICATION    3.4   \n",
       "10471                         Xposed Wi-Fi-Pwd  PERSONALIZATION    3.5   \n",
       "10472  Life Made WI-Fi Touchscreen Photo Frame        LIFESTYLE    1.9   \n",
       "10473                  osmino Wi-Fi: free WiFi            TOOLS    4.2   \n",
       "10474                             Sat-Fi Voice    COMMUNICATION    3.4   \n",
       "\n",
       "      Reviews  Size     Installs  Type Price Content Rating           Genres  \\\n",
       "10470      49  4.0M      10,000+  Free     0       Everyone    Communication   \n",
       "10471    1042  404k     100,000+  Free     0       Everyone  Personalization   \n",
       "10472      19  3.0M       1,000+  Free     0       Everyone              NaN   \n",
       "10473  134203  4.1M  10,000,000+  Free     0       Everyone            Tools   \n",
       "10474      37   14M       1,000+  Free     0       Everyone    Communication   \n",
       "\n",
       "            Last Updated Current Ver   Android Ver  \n",
       "10470  February 10, 2017         0.1    2.3 and up  \n",
       "10471     August 5, 2014       3.0.0  4.0.3 and up  \n",
       "10472  February 11, 2018      1.0.19    4.0 and up  \n",
       "10473     August 7, 2018     6.06.14    4.4 and up  \n",
       "10474  November 21, 2014     2.2.1.5    2.2 and up  "
      ]
     },
     "execution_count": 13,
     "metadata": {},
     "output_type": "execute_result"
    }
   ],
   "source": [
    "# Menambahkan Category LIFESTYLE ke Aplikasi \"Life Made WI-Fi Touchscreen Photo Frame\"\n",
    "dfGapps.iloc[10472,1] = 'LIFESTYLE'\n",
    "dfGapps[10470:10475]"
   ]
  },
  {
   "cell_type": "code",
   "execution_count": 14,
   "metadata": {},
   "outputs": [
    {
     "data": {
      "text/plain": [
       "App               object\n",
       "Category          object\n",
       "Rating            object\n",
       "Reviews           object\n",
       "Size              object\n",
       "Installs          object\n",
       "Type              object\n",
       "Price             object\n",
       "Content Rating    object\n",
       "Genres            object\n",
       "Last Updated      object\n",
       "Current Ver       object\n",
       "Android Ver       object\n",
       "dtype: object"
      ]
     },
     "execution_count": 14,
     "metadata": {},
     "output_type": "execute_result"
    }
   ],
   "source": [
    "# Mengecek ulang type dari kolom dfGapps\n",
    "dfGapps.dtypes"
   ]
  },
  {
   "cell_type": "code",
   "execution_count": 15,
   "metadata": {},
   "outputs": [],
   "source": [
    "# Mengubah kolom rating & Reviews kembali menjadi tipe float64\n",
    "dfGapps['Rating'] = dfGapps['Rating'].apply(pd.to_numeric, errors='coerce')\n",
    "dfGapps['Reviews'] = dfGapps['Reviews'].apply(pd.to_numeric, errors='coerce')"
   ]
  },
  {
   "cell_type": "code",
   "execution_count": 16,
   "metadata": {},
   "outputs": [
    {
     "data": {
      "text/html": [
       "<div>\n",
       "<style scoped>\n",
       "    .dataframe tbody tr th:only-of-type {\n",
       "        vertical-align: middle;\n",
       "    }\n",
       "\n",
       "    .dataframe tbody tr th {\n",
       "        vertical-align: top;\n",
       "    }\n",
       "\n",
       "    .dataframe thead th {\n",
       "        text-align: right;\n",
       "    }\n",
       "</style>\n",
       "<table border=\"1\" class=\"dataframe\">\n",
       "  <thead>\n",
       "    <tr style=\"text-align: right;\">\n",
       "      <th></th>\n",
       "      <th>Category</th>\n",
       "    </tr>\n",
       "  </thead>\n",
       "  <tbody>\n",
       "    <tr>\n",
       "      <th>0</th>\n",
       "      <td>ART_AND_DESIGN</td>\n",
       "    </tr>\n",
       "    <tr>\n",
       "      <th>1</th>\n",
       "      <td>AUTO_AND_VEHICLES</td>\n",
       "    </tr>\n",
       "    <tr>\n",
       "      <th>2</th>\n",
       "      <td>BEAUTY</td>\n",
       "    </tr>\n",
       "    <tr>\n",
       "      <th>3</th>\n",
       "      <td>BOOKS_AND_REFERENCE</td>\n",
       "    </tr>\n",
       "    <tr>\n",
       "      <th>4</th>\n",
       "      <td>BUSINESS</td>\n",
       "    </tr>\n",
       "    <tr>\n",
       "      <th>5</th>\n",
       "      <td>COMICS</td>\n",
       "    </tr>\n",
       "    <tr>\n",
       "      <th>6</th>\n",
       "      <td>COMMUNICATION</td>\n",
       "    </tr>\n",
       "    <tr>\n",
       "      <th>7</th>\n",
       "      <td>DATING</td>\n",
       "    </tr>\n",
       "    <tr>\n",
       "      <th>8</th>\n",
       "      <td>EDUCATION</td>\n",
       "    </tr>\n",
       "    <tr>\n",
       "      <th>9</th>\n",
       "      <td>ENTERTAINMENT</td>\n",
       "    </tr>\n",
       "  </tbody>\n",
       "</table>\n",
       "</div>"
      ],
      "text/plain": [
       "              Category\n",
       "0       ART_AND_DESIGN\n",
       "1    AUTO_AND_VEHICLES\n",
       "2               BEAUTY\n",
       "3  BOOKS_AND_REFERENCE\n",
       "4             BUSINESS\n",
       "5               COMICS\n",
       "6        COMMUNICATION\n",
       "7               DATING\n",
       "8            EDUCATION\n",
       "9        ENTERTAINMENT"
      ]
     },
     "execution_count": 16,
     "metadata": {},
     "output_type": "execute_result"
    }
   ],
   "source": [
    "# membuat list untuk menampung data Category yang unik\n",
    "data_cat = {'Category':dfGapps['Category'].unique()} \n",
    "\n",
    "# memasukan data kategori ke dataframe\n",
    "dfCat = pd.DataFrame(data_cat)\n",
    "dfCat.head(10)"
   ]
  },
  {
   "cell_type": "markdown",
   "metadata": {},
   "source": [
    "Didalam Dataset Googleplaystore terdapat banyak aplikasi dengan berbagai category dan dengan mengitung jumlah apliasi dari tiap category dapat ditemukan category yang paling terkenal dalam Googleplaystore."
   ]
  },
  {
   "cell_type": "code",
   "execution_count": 17,
   "metadata": {},
   "outputs": [
    {
     "data": {
      "text/plain": [
       "Category\n",
       "ART_AND_DESIGN           65\n",
       "AUTO_AND_VEHICLES        85\n",
       "BEAUTY                   53\n",
       "BOOKS_AND_REFERENCE     231\n",
       "BUSINESS                460\n",
       "COMICS                   60\n",
       "COMMUNICATION           387\n",
       "DATING                  234\n",
       "EDUCATION               156\n",
       "ENTERTAINMENT           149\n",
       "EVENTS                   64\n",
       "FAMILY                 1972\n",
       "FINANCE                 366\n",
       "FOOD_AND_DRINK          127\n",
       "GAME                   1144\n",
       "HEALTH_AND_FITNESS      341\n",
       "HOUSE_AND_HOME           88\n",
       "LIBRARIES_AND_DEMO       85\n",
       "LIFESTYLE               383\n",
       "MAPS_AND_NAVIGATION     137\n",
       "MEDICAL                 463\n",
       "NEWS_AND_MAGAZINES      283\n",
       "PARENTING                60\n",
       "PERSONALIZATION         392\n",
       "PHOTOGRAPHY             335\n",
       "PRODUCTIVITY            424\n",
       "SHOPPING                260\n",
       "SOCIAL                  295\n",
       "SPORTS                  384\n",
       "TOOLS                   843\n",
       "TRAVEL_AND_LOCAL        258\n",
       "VIDEO_PLAYERS           175\n",
       "WEATHER                  82\n",
       "Name: App, dtype: int64"
      ]
     },
     "execution_count": 17,
     "metadata": {},
     "output_type": "execute_result"
    }
   ],
   "source": [
    "dfGapps.groupby('Category')['App'].count()"
   ]
  },
  {
   "cell_type": "markdown",
   "metadata": {},
   "source": [
    "Hasil data diatas dapat divisualisasikan kedalam bentuk barchart seperti ini."
   ]
  },
  {
   "cell_type": "code",
   "execution_count": 18,
   "metadata": {},
   "outputs": [
    {
     "data": {
      "text/plain": [
       "Text(0.5, 1.0, 'Jumlah Aplikasi berdasarkan Category')"
      ]
     },
     "execution_count": 18,
     "metadata": {},
     "output_type": "execute_result"
    },
    {
     "data": {
      "image/png": "[encoded data removed]",
      "text/plain": [
       "<Figure size 864x864 with 1 Axes>"
      ]
     },
     "metadata": {
      "needs_background": "light"
     },
     "output_type": "display_data"
    }
   ],
   "source": [
    "plt.figure(figsize=(12,12))\n",
    "sns.countplot(y='Category',data = dfGapps)\n",
    "plt.title(\"Jumlah Aplikasi berdasarkan Category\")"
   ]
  },
  {
   "cell_type": "markdown",
   "metadata": {},
   "source": [
    "### Rating"
   ]
  },
  {
   "cell_type": "code",
   "execution_count": 19,
   "metadata": {},
   "outputs": [
    {
     "data": {
      "text/plain": [
       "array([4.1, 3.9, 4.7, 4.5, 4.3, 4.4, 3.8, 4.2, 4.6, 3.2, 4. , nan, 4.8,\n",
       "       4.9, 3.6, 3.7, 3.3, 3.4, 3.5, 3.1, 5. , 2.6, 3. , 1.9, 2.5, 2.8,\n",
       "       2.7, 1. , 2.9, 2.3, 2.2, 1.7, 2. , 1.8, 2.4, 1.6, 2.1, 1.4, 1.5,\n",
       "       1.2])"
      ]
     },
     "execution_count": 19,
     "metadata": {},
     "output_type": "execute_result"
    }
   ],
   "source": [
    "# nilai unik dari kolom Rating\n",
    "dfGapps['Rating'].unique()"
   ]
  },
  {
   "cell_type": "markdown",
   "metadata": {},
   "source": [
    "datatype 'Rating' bertipe object dan harus diubah menjadi numerik agar dapat disorting"
   ]
  },
  {
   "cell_type": "code",
   "execution_count": 20,
   "metadata": {},
   "outputs": [],
   "source": [
    "# mengkonversi tipe data dari kolom Rating\n",
    "dfGapps['Rating'] = pd.to_numeric(dfGapps['Rating'],errors='coerce')"
   ]
  },
  {
   "cell_type": "code",
   "execution_count": 21,
   "metadata": {},
   "outputs": [
    {
     "data": {
      "text/html": [
       "<div>\n",
       "<style scoped>\n",
       "    .dataframe tbody tr th:only-of-type {\n",
       "        vertical-align: middle;\n",
       "    }\n",
       "\n",
       "    .dataframe tbody tr th {\n",
       "        vertical-align: top;\n",
       "    }\n",
       "\n",
       "    .dataframe thead th {\n",
       "        text-align: right;\n",
       "    }\n",
       "</style>\n",
       "<table border=\"1\" class=\"dataframe\">\n",
       "  <thead>\n",
       "    <tr style=\"text-align: right;\">\n",
       "      <th></th>\n",
       "      <th>App</th>\n",
       "      <th>Rating</th>\n",
       "      <th>Category</th>\n",
       "    </tr>\n",
       "  </thead>\n",
       "  <tbody>\n",
       "    <tr>\n",
       "      <th>9056</th>\n",
       "      <td>Santa's Monster Shootout DX</td>\n",
       "      <td>5.0</td>\n",
       "      <td>GAME</td>\n",
       "    </tr>\n",
       "    <tr>\n",
       "      <th>8395</th>\n",
       "      <td>DG TV</td>\n",
       "      <td>5.0</td>\n",
       "      <td>NEWS_AND_MAGAZINES</td>\n",
       "    </tr>\n",
       "    <tr>\n",
       "      <th>8493</th>\n",
       "      <td>PK and DK Audio App</td>\n",
       "      <td>5.0</td>\n",
       "      <td>FAMILY</td>\n",
       "    </tr>\n",
       "    <tr>\n",
       "      <th>6330</th>\n",
       "      <td>HON. B.J. ACS COLLEGE ALE</td>\n",
       "      <td>5.0</td>\n",
       "      <td>FAMILY</td>\n",
       "    </tr>\n",
       "    <tr>\n",
       "      <th>6342</th>\n",
       "      <td>BJ Foods</td>\n",
       "      <td>5.0</td>\n",
       "      <td>BUSINESS</td>\n",
       "    </tr>\n",
       "  </tbody>\n",
       "</table>\n",
       "</div>"
      ],
      "text/plain": [
       "                              App  Rating            Category\n",
       "9056  Santa's Monster Shootout DX     5.0                GAME\n",
       "8395                        DG TV     5.0  NEWS_AND_MAGAZINES\n",
       "8493          PK and DK Audio App     5.0              FAMILY\n",
       "6330    HON. B.J. ACS COLLEGE ALE     5.0              FAMILY\n",
       "6342                     BJ Foods     5.0            BUSINESS"
      ]
     },
     "execution_count": 21,
     "metadata": {},
     "output_type": "execute_result"
    }
   ],
   "source": [
    "# Menampilkan Aplikasi yang memiliki rating dari terendah ke tertinggi\n",
    "dfRat = dfGapps\n",
    "dfRat.sort_values(by='Rating',ascending=False)[['App','Rating','Category']].head()"
   ]
  },
  {
   "cell_type": "markdown",
   "metadata": {},
   "source": [
    "### Installs"
   ]
  },
  {
   "cell_type": "code",
   "execution_count": 22,
   "metadata": {},
   "outputs": [
    {
     "data": {
      "text/plain": [
       "array(['10,000+', '500,000+', '5,000,000+', '50,000,000+', '100,000+',\n",
       "       '50,000+', '1,000,000+', '10,000,000+', '5,000+', '100,000,000+',\n",
       "       '1,000,000,000+', '1,000+', '500,000,000+', '50+', '100+', '500+',\n",
       "       '10+', '1+', '5+', '0+', '0'], dtype=object)"
      ]
     },
     "execution_count": 22,
     "metadata": {},
     "output_type": "execute_result"
    }
   ],
   "source": [
    "# nilai unik dari kolom Installs\n",
    "dfGapps['Installs'].unique()"
   ]
  },
  {
   "cell_type": "markdown",
   "metadata": {},
   "source": [
    "Setelah menemukan Nilai unik dari kolom Installs, dapat mengetahui jarak dari satu titik milestone ke titik milestone lainnya. "
   ]
  },
  {
   "cell_type": "code",
   "execution_count": 23,
   "metadata": {},
   "outputs": [],
   "source": [
    "# Menambahkan Kolom Install temp \n",
    "\n",
    "dfGapps.insert(6, \"Installs temp\", dfGapps['Installs'].apply(lambda x: x.replace(',', '') if ',' in str(x) else x), True)\n",
    "dfGapps['Installs temp'] = dfGapps['Installs temp'].apply(lambda x: float(str(x).replace('+', '')) /1000 if '+' in str(x)else x)\n",
    "dfGapps['Installs temp'] = dfGapps['Installs temp'].apply(lambda x: str(x))\n",
    "dfGapps['Installs temp'] = dfGapps['Installs temp'].apply(lambda x: x.replace('.0', '') if '.0' in str(x) else x) + 'K+'"
   ]
  },
  {
   "cell_type": "markdown",
   "metadata": {},
   "source": [
    "### Size"
   ]
  },
  {
   "cell_type": "code",
   "execution_count": null,
   "metadata": {},
   "outputs": [],
   "source": [
    "# Mengubah nilai 'Varies with device menjadi 'NaN' dan Mengkonversi value Size kedalam satuan Megabyte\n",
    "dfGapps['Size'] = dfGapps['Size'].apply(lambda x: str(x).replace('Varies with device', 'NaN') if 'Varies with device' in str(x) else x)\n",
    "\n",
    "dfGapps['Size'] = dfGapps['Size'].apply(lambda x: str(x).replace('M', '') if 'M' in str(x) else x)\n",
    "dfGapps['Size'] = dfGapps['Size'].apply(lambda x: str(x).replace(',', '') if 'M' in str(x) else x)\n",
    "\n",
    "# mengkonversi kilobyte menjadi byte dengan / 1000\n",
    "dfGapps['Size'] = dfGapps['Size'].apply(lambda x: float(str(x).replace('k', '')) / 1000 if 'k' in str(x) else x)\n",
    "\n",
    "# Mengubah type Size kembali menjadi Float\n",
    "dfGapps['Size'] = dfGapps['Size'].apply(lambda x: float(x))\n"
   ]
  },
  {
   "cell_type": "markdown",
   "metadata": {},
   "source": [
    "### Type"
   ]
  },
  {
   "cell_type": "code",
   "execution_count": null,
   "metadata": {},
   "outputs": [
    {
     "data": {
      "text/plain": [
       "array(['Free', 'Paid', nan], dtype=object)"
      ]
     },
     "execution_count": 25,
     "metadata": {},
     "output_type": "execute_result"
    }
   ],
   "source": [
    "# nilai unik dari kolom Type\n",
    "dfGapps['Type'].unique()"
   ]
  },
  {
   "cell_type": "markdown",
   "metadata": {},
   "source": [
    "### Price"
   ]
  },
  {
   "cell_type": "code",
   "execution_count": null,
   "metadata": {},
   "outputs": [
    {
     "data": {
      "text/plain": [
       "array(['0', '$4.99', '$3.99', '$6.99', '$1.49', '$2.99', '$7.99', '$5.99',\n",
       "       '$3.49', '$1.99', '$9.99', '$7.49', '$0.99', '$9.00', '$5.49',\n",
       "       '$10.00', '$24.99', '$11.99', '$79.99', '$16.99', '$14.99',\n",
       "       '$1.00', '$29.99', '$12.99', '$2.49', '$10.99', '$1.50', '$19.99',\n",
       "       '$15.99', '$33.99', '$74.99', '$39.99', '$3.95', '$4.49', '$1.70',\n",
       "       '$8.99', '$2.00', '$3.88', '$25.99', '$399.99', '$17.99',\n",
       "       '$400.00', '$3.02', '$1.76', '$4.84', '$4.77', '$1.61', '$2.50',\n",
       "       '$1.59', '$6.49', '$1.29', '$5.00', '$13.99', '$299.99', '$379.99',\n",
       "       '$37.99', '$18.99', '$389.99', '$19.90', '$8.49', '$1.75',\n",
       "       '$14.00', '$4.85', '$46.99', '$109.99', '$154.99', '$3.08',\n",
       "       '$2.59', '$4.80', '$1.96', '$19.40', '$3.90', '$4.59', '$15.46',\n",
       "       '$3.04', '$4.29', '$2.60', '$3.28', '$4.60', '$28.99', '$2.95',\n",
       "       '$2.90', '$1.97', '$200.00', '$89.99', '$2.56', '$30.99', '$3.61',\n",
       "       '$394.99', '$1.26', '$1.20', '$1.04'], dtype=object)"
      ]
     },
     "execution_count": 26,
     "metadata": {},
     "output_type": "execute_result"
    }
   ],
   "source": [
    "# nilai unik dari kolom Type\n",
    "dfGapps['Price'].unique()"
   ]
  },
  {
   "cell_type": "markdown",
   "metadata": {},
   "source": [
    "dengan mengetahui harga-harga yang dimiliki oleh tiap Aplikasi yang ada didalam googleplaystore dapat mengetahui 20 besar aplikasi termahal yang ada, namun sebelumnya harus dibuat konverter currency dengan kode berikut :"
   ]
  },
  {
   "cell_type": "code",
   "execution_count": null,
   "metadata": {},
   "outputs": [],
   "source": [
    "def convert_currency(val):\n",
    "    \n",
    "    new_val = val.replace(',','').replace('$', '')\n",
    "    return float(new_val)"
   ]
  },
  {
   "cell_type": "code",
   "execution_count": null,
   "metadata": {},
   "outputs": [],
   "source": [
    "# Membuat dataframe baru yang berisikan nilai dari dataframe dfGapps\n",
    "dfPrice = dfGapps\n",
    "# mengaplikasikan method convert_currency kedalam dfPrice\n",
    "dfPrice['Price'] = dfGapps['Price'].apply(convert_currency)"
   ]
  },
  {
   "cell_type": "code",
   "execution_count": null,
   "metadata": {},
   "outputs": [
    {
     "data": {
      "text/html": [
       "<div>\n",
       "<style scoped>\n",
       "    .dataframe tbody tr th:only-of-type {\n",
       "        vertical-align: middle;\n",
       "    }\n",
       "\n",
       "    .dataframe tbody tr th {\n",
       "        vertical-align: top;\n",
       "    }\n",
       "\n",
       "    .dataframe thead th {\n",
       "        text-align: right;\n",
       "    }\n",
       "</style>\n",
       "<table border=\"1\" class=\"dataframe\">\n",
       "  <thead>\n",
       "    <tr style=\"text-align: right;\">\n",
       "      <th></th>\n",
       "      <th>App</th>\n",
       "      <th>Price</th>\n",
       "      <th>Category</th>\n",
       "    </tr>\n",
       "  </thead>\n",
       "  <tbody>\n",
       "    <tr>\n",
       "      <th>4367</th>\n",
       "      <td>I'm Rich - Trump Edition</td>\n",
       "      <td>400.00</td>\n",
       "      <td>LIFESTYLE</td>\n",
       "    </tr>\n",
       "    <tr>\n",
       "      <th>5364</th>\n",
       "      <td>I am rich (Most expensive app)</td>\n",
       "      <td>399.99</td>\n",
       "      <td>FINANCE</td>\n",
       "    </tr>\n",
       "    <tr>\n",
       "      <th>5373</th>\n",
       "      <td>I AM RICH PRO PLUS</td>\n",
       "      <td>399.99</td>\n",
       "      <td>FINANCE</td>\n",
       "    </tr>\n",
       "    <tr>\n",
       "      <th>5354</th>\n",
       "      <td>I am Rich Plus</td>\n",
       "      <td>399.99</td>\n",
       "      <td>FAMILY</td>\n",
       "    </tr>\n",
       "    <tr>\n",
       "      <th>4197</th>\n",
       "      <td>most expensive app (H)</td>\n",
       "      <td>399.99</td>\n",
       "      <td>FAMILY</td>\n",
       "    </tr>\n",
       "    <tr>\n",
       "      <th>9934</th>\n",
       "      <td>I'm Rich/Eu sou Rico/أنا غني/我很有錢</td>\n",
       "      <td>399.99</td>\n",
       "      <td>LIFESTYLE</td>\n",
       "    </tr>\n",
       "    <tr>\n",
       "      <th>5356</th>\n",
       "      <td>I Am Rich Premium</td>\n",
       "      <td>399.99</td>\n",
       "      <td>FINANCE</td>\n",
       "    </tr>\n",
       "    <tr>\n",
       "      <th>5358</th>\n",
       "      <td>I am Rich!</td>\n",
       "      <td>399.99</td>\n",
       "      <td>FINANCE</td>\n",
       "    </tr>\n",
       "    <tr>\n",
       "      <th>5359</th>\n",
       "      <td>I am rich(premium)</td>\n",
       "      <td>399.99</td>\n",
       "      <td>FINANCE</td>\n",
       "    </tr>\n",
       "    <tr>\n",
       "      <th>5362</th>\n",
       "      <td>I Am Rich Pro</td>\n",
       "      <td>399.99</td>\n",
       "      <td>FAMILY</td>\n",
       "    </tr>\n",
       "    <tr>\n",
       "      <th>5369</th>\n",
       "      <td>I am Rich</td>\n",
       "      <td>399.99</td>\n",
       "      <td>FINANCE</td>\n",
       "    </tr>\n",
       "    <tr>\n",
       "      <th>5351</th>\n",
       "      <td>I am rich</td>\n",
       "      <td>399.99</td>\n",
       "      <td>LIFESTYLE</td>\n",
       "    </tr>\n",
       "    <tr>\n",
       "      <th>4362</th>\n",
       "      <td>💎 I'm rich</td>\n",
       "      <td>399.99</td>\n",
       "      <td>LIFESTYLE</td>\n",
       "    </tr>\n",
       "    <tr>\n",
       "      <th>9917</th>\n",
       "      <td>Eu Sou Rico</td>\n",
       "      <td>394.99</td>\n",
       "      <td>FINANCE</td>\n",
       "    </tr>\n",
       "    <tr>\n",
       "      <th>5366</th>\n",
       "      <td>I Am Rich</td>\n",
       "      <td>389.99</td>\n",
       "      <td>FAMILY</td>\n",
       "    </tr>\n",
       "    <tr>\n",
       "      <th>5357</th>\n",
       "      <td>I am extremely Rich</td>\n",
       "      <td>379.99</td>\n",
       "      <td>LIFESTYLE</td>\n",
       "    </tr>\n",
       "    <tr>\n",
       "      <th>5355</th>\n",
       "      <td>I am rich VIP</td>\n",
       "      <td>299.99</td>\n",
       "      <td>LIFESTYLE</td>\n",
       "    </tr>\n",
       "    <tr>\n",
       "      <th>9719</th>\n",
       "      <td>EP Cook Book</td>\n",
       "      <td>200.00</td>\n",
       "      <td>MEDICAL</td>\n",
       "    </tr>\n",
       "    <tr>\n",
       "      <th>6692</th>\n",
       "      <td>cronometra-br</td>\n",
       "      <td>154.99</td>\n",
       "      <td>PRODUCTIVITY</td>\n",
       "    </tr>\n",
       "    <tr>\n",
       "      <th>6624</th>\n",
       "      <td>BP Fitness Lead Scanner</td>\n",
       "      <td>109.99</td>\n",
       "      <td>EVENTS</td>\n",
       "    </tr>\n",
       "  </tbody>\n",
       "</table>\n",
       "</div>"
      ],
      "text/plain": [
       "                                    App   Price      Category\n",
       "4367           I'm Rich - Trump Edition  400.00     LIFESTYLE\n",
       "5364     I am rich (Most expensive app)  399.99       FINANCE\n",
       "5373                 I AM RICH PRO PLUS  399.99       FINANCE\n",
       "5354                     I am Rich Plus  399.99        FAMILY\n",
       "4197             most expensive app (H)  399.99        FAMILY\n",
       "9934  I'm Rich/Eu sou Rico/أنا غني/我很有錢  399.99     LIFESTYLE\n",
       "5356                  I Am Rich Premium  399.99       FINANCE\n",
       "5358                         I am Rich!  399.99       FINANCE\n",
       "5359                 I am rich(premium)  399.99       FINANCE\n",
       "5362                      I Am Rich Pro  399.99        FAMILY\n",
       "5369                          I am Rich  399.99       FINANCE\n",
       "5351                          I am rich  399.99     LIFESTYLE\n",
       "4362                         💎 I'm rich  399.99     LIFESTYLE\n",
       "9917                        Eu Sou Rico  394.99       FINANCE\n",
       "5366                          I Am Rich  389.99        FAMILY\n",
       "5357                I am extremely Rich  379.99     LIFESTYLE\n",
       "5355                      I am rich VIP  299.99     LIFESTYLE\n",
       "9719                       EP Cook Book  200.00       MEDICAL\n",
       "6692                      cronometra-br  154.99  PRODUCTIVITY\n",
       "6624            BP Fitness Lead Scanner  109.99        EVENTS"
      ]
     },
     "execution_count": 29,
     "metadata": {},
     "output_type": "execute_result"
    }
   ],
   "source": [
    "# Menampilkan 20 aplikasi termahal didalam googleplaystore\n",
    "dfPrice.sort_values(by='Price',ascending=False)[['App','Price','Category']].head(20)"
   ]
  },
  {
   "cell_type": "markdown",
   "metadata": {},
   "source": [
    "### Content Rating"
   ]
  },
  {
   "cell_type": "code",
   "execution_count": null,
   "metadata": {},
   "outputs": [
    {
     "data": {
      "text/plain": [
       "array(['Everyone', 'Teen', 'Everyone 10+', 'Mature 17+',\n",
       "       'Adults only 18+', 'Unrated'], dtype=object)"
      ]
     },
     "execution_count": 30,
     "metadata": {},
     "output_type": "execute_result"
    }
   ],
   "source": [
    "# nilai unik dari kolom Content Rating\n",
    "dfGapps['Content Rating'].unique()"
   ]
  },
  {
   "cell_type": "markdown",
   "metadata": {},
   "source": [
    "### Genres"
   ]
  },
  {
   "cell_type": "code",
   "execution_count": null,
   "metadata": {},
   "outputs": [
    {
     "data": {
      "text/plain": [
       "array(['Art & Design', 'Art & Design;Pretend Play',\n",
       "       'Art & Design;Creativity', 'Art & Design;Action & Adventure',\n",
       "       'Auto & Vehicles', 'Beauty', 'Books & Reference', 'Business',\n",
       "       'Comics', 'Comics;Creativity', 'Communication', 'Dating',\n",
       "       'Education;Education', 'Education', 'Education;Creativity',\n",
       "       'Education;Music & Video', 'Education;Action & Adventure',\n",
       "       'Education;Pretend Play', 'Education;Brain Games', 'Entertainment',\n",
       "       'Entertainment;Music & Video', 'Entertainment;Brain Games',\n",
       "       'Entertainment;Creativity', 'Events', 'Finance', 'Food & Drink',\n",
       "       'Health & Fitness', 'House & Home', 'Libraries & Demo',\n",
       "       'Lifestyle', 'Lifestyle;Pretend Play',\n",
       "       'Adventure;Action & Adventure', 'Arcade', 'Casual', 'Card',\n",
       "       'Casual;Pretend Play', 'Action', 'Strategy', 'Puzzle', 'Sports',\n",
       "       'Music', 'Word', 'Racing', 'Casual;Creativity',\n",
       "       'Casual;Action & Adventure', 'Simulation', 'Adventure', 'Board',\n",
       "       'Trivia', 'Role Playing', 'Simulation;Education',\n",
       "       'Action;Action & Adventure', 'Casual;Brain Games',\n",
       "       'Simulation;Action & Adventure', 'Educational;Creativity',\n",
       "       'Puzzle;Brain Games', 'Educational;Education', 'Card;Brain Games',\n",
       "       'Educational;Brain Games', 'Educational;Pretend Play',\n",
       "       'Entertainment;Education', 'Casual;Education',\n",
       "       'Music;Music & Video', 'Racing;Action & Adventure',\n",
       "       'Arcade;Pretend Play', 'Role Playing;Action & Adventure',\n",
       "       'Simulation;Pretend Play', 'Puzzle;Creativity',\n",
       "       'Sports;Action & Adventure', 'Educational;Action & Adventure',\n",
       "       'Arcade;Action & Adventure', 'Entertainment;Action & Adventure',\n",
       "       'Puzzle;Action & Adventure', 'Strategy;Action & Adventure',\n",
       "       'Music & Audio;Music & Video', 'Health & Fitness;Education',\n",
       "       'Adventure;Education', 'Board;Brain Games',\n",
       "       'Board;Action & Adventure', 'Board;Pretend Play',\n",
       "       'Casual;Music & Video', 'Role Playing;Pretend Play',\n",
       "       'Entertainment;Pretend Play', 'Video Players & Editors;Creativity',\n",
       "       'Card;Action & Adventure', 'Medical', 'Social', 'Shopping',\n",
       "       'Photography', 'Travel & Local',\n",
       "       'Travel & Local;Action & Adventure', 'Tools', 'Tools;Education',\n",
       "       'Personalization', 'Productivity', 'Parenting',\n",
       "       'Parenting;Music & Video', 'Parenting;Education',\n",
       "       'Parenting;Brain Games', 'Weather', 'Video Players & Editors',\n",
       "       'Video Players & Editors;Music & Video', 'News & Magazines',\n",
       "       'Maps & Navigation', 'Health & Fitness;Action & Adventure',\n",
       "       'Educational', 'Casino', 'Adventure;Brain Games',\n",
       "       'Trivia;Education', 'Lifestyle;Education',\n",
       "       'Books & Reference;Creativity', 'Books & Reference;Education',\n",
       "       'Puzzle;Education', 'Role Playing;Education',\n",
       "       'Role Playing;Brain Games', 'Strategy;Education',\n",
       "       'Racing;Pretend Play', 'Communication;Creativity', nan,\n",
       "       'Strategy;Creativity'], dtype=object)"
      ]
     },
     "execution_count": 31,
     "metadata": {},
     "output_type": "execute_result"
    }
   ],
   "source": [
    "# nilai unik dari kolom Genres\n",
    "dfGapps['Genres'].unique()"
   ]
  },
  {
   "cell_type": "markdown",
   "metadata": {},
   "source": [
    "### Android Ver"
   ]
  },
  {
   "cell_type": "code",
   "execution_count": null,
   "metadata": {},
   "outputs": [
    {
     "data": {
      "text/plain": [
       "array(['4.0.3 and up', '4.2 and up', '4.4 and up', '2.3 and up',\n",
       "       '3.0 and up', '4.1 and up', '4.0 and up', '2.3.3 and up',\n",
       "       'Varies with device', '2.2 and up', '5.0 and up', '6.0 and up',\n",
       "       '1.6 and up', '1.5 and up', '2.1 and up', '7.0 and up',\n",
       "       '5.1 and up', '4.3 and up', '4.0.3 - 7.1.1', '2.0 and up',\n",
       "       '3.2 and up', '4.4W and up', '7.1 and up', '7.0 - 7.1.1',\n",
       "       '8.0 and up', '5.0 - 8.0', '3.1 and up', '2.0.1 and up',\n",
       "       '4.1 - 7.1.1', nan, '5.0 - 6.0', '1.0 and up', '2.2 - 7.1.1',\n",
       "       '5.0 - 7.1.1'], dtype=object)"
      ]
     },
     "execution_count": 32,
     "metadata": {},
     "output_type": "execute_result"
    }
   ],
   "source": [
    "# nilai unik dari kolom Android Ver\n",
    "dfGapps['Android Ver'].unique()"
   ]
  },
  {
   "cell_type": "markdown",
   "metadata": {},
   "source": [
    "## Visualisasi Free & Paid App dalam Barplot"
   ]
  },
  {
   "cell_type": "code",
   "execution_count": null,
   "metadata": {},
   "outputs": [
    {
     "data": {
      "text/plain": [
       "Type\n",
       "Free    10040\n",
       "Paid      800\n",
       "Name: App, dtype: int64"
      ]
     },
     "execution_count": 33,
     "metadata": {},
     "output_type": "execute_result"
    }
   ],
   "source": [
    "type_group = dfGapps.groupby('Type').App.count()\n",
    "type_group"
   ]
  },
  {
   "cell_type": "code",
   "execution_count": null,
   "metadata": {},
   "outputs": [
    {
     "data": {
      "image/png": "[encoded data removed]",
      "text/plain": [
       "<Figure size 864x720 with 2 Axes>"
      ]
     },
     "metadata": {
      "needs_background": "light"
     },
     "output_type": "display_data"
    }
   ],
   "source": [
    "plt.figure(figsize=(12,10))\n",
    "ax = sns.countplot(x='Type',data = dfGapps, order=['Free','Paid'])\n",
    "plt.title(\"Perbandingan App Free & Paid\")\n",
    "plt.xlabel('Type Aplikasi')\n",
    "\n",
    "# Membuat variable ncount untuk panjan data dfGapps\n",
    "ncount = len(dfGapps)\n",
    "\n",
    "# Membuat twin Axis\n",
    "ax2 = ax.twinx()\n",
    "\n",
    "# Menukar Posisi count axis dan frequency\n",
    "ax2.yaxis.tick_left()\n",
    "ax.yaxis.tick_right()\n",
    "\n",
    "# Menukar Posisi label dari count dan frequency\n",
    "ax.yaxis.set_label_position('right')\n",
    "ax2.yaxis.set_label_position('left')\n",
    "\n",
    "ax2.set_ylabel('Frequency [%]')\n",
    "\n",
    "for p in ax.patches:\n",
    "    x=p.get_bbox().get_points()[:,0]\n",
    "    y=p.get_bbox().get_points()[1,1]\n",
    "    ax.annotate('{:.1f}%'.format(100.*y/ncount), (x.mean(), y), \n",
    "            ha='center', va='bottom')\n",
    "\n",
    "# Menggunakan LinearLocator untuk memastikan jarak tiap tick benar    \n",
    "ax.yaxis.set_major_locator(ticker.LinearLocator(11))\n",
    "\n",
    "# Mengubah range frequensi menjadi 0 - 100\n",
    "ax2.set_ylim(0,100)\n",
    "ax.set_ylim(0,ncount)\n",
    "\n",
    "# menggunakan multipicator untuk memastikan jarak tiap tick adalah 10\n",
    "ax2.yaxis.set_major_locator(ticker.MultipleLocator(10))\n",
    "\n",
    "# Mematikan grid pada ax2 agar gridline dapat terlihat\n",
    "ax2.grid(None)"
   ]
  },
  {
   "cell_type": "markdown",
   "metadata": {},
   "source": [
    "## Histogram Distribusi Rating"
   ]
  },
  {
   "cell_type": "code",
   "execution_count": null,
   "metadata": {},
   "outputs": [
    {
     "data": {
      "text/plain": [
       "Text(0.5, 1.0, 'Distribusi Rating Seluruh App')"
      ]
     },
     "execution_count": 35,
     "metadata": {},
     "output_type": "execute_result"
    },
    {
     "data": {
      "image/png": "[encoded data removed]",
      "text/plain": [
       "<Figure size 1080x720 with 1 Axes>"
      ]
     },
     "metadata": {
      "needs_background": "light"
     },
     "output_type": "display_data"
    }
   ],
   "source": [
    "dfGapps[\"Rating\"].plot(kind=\"hist\",color=\"blue\",bins=42,grid=True,alpha=0.65,label=\"Rating\",figsize=(15,10))\n",
    "plt.legend()\n",
    "plt.xlabel(\"Rating\")\n",
    "plt.title(\"Distribusi Rating Seluruh App\")"
   ]
  },
  {
   "cell_type": "code",
   "execution_count": null,
   "metadata": {},
   "outputs": [],
   "source": [
    "type_count = dfGapps.groupby('Type')"
   ]
  },
  {
   "cell_type": "code",
   "execution_count": null,
   "metadata": {},
   "outputs": [],
   "source": [
    "free_count_group = type_count.get_group('Free')\n",
    "paid_count_group = type_count.get_group('Paid')"
   ]
  },
  {
   "cell_type": "code",
   "execution_count": null,
   "metadata": {},
   "outputs": [
    {
     "data": {
      "text/plain": [
       "Text(0.5, 1.0, 'Distribusi Rating App Paid')"
      ]
     },
     "execution_count": 38,
     "metadata": {},
     "output_type": "execute_result"
    },
    {
     "data": {
      "image/png": "[encoded data removed]",
      "text/plain": [
       "<Figure size 864x864 with 2 Axes>"
      ]
     },
     "metadata": {
      "needs_background": "light"
     },
     "output_type": "display_data"
    }
   ],
   "source": [
    "fig, axes = plt.subplots(nrows=2,ncols=1,figsize=(12,12))\n",
    "\n",
    "free_count_group[\"Rating\"].plot(kind=\"hist\",color=\"blue\",bins=42,grid=True,alpha=0.65,label=\"Rating\",ax=axes[0])\n",
    "axes[0].legend()\n",
    "axes[0].set_xlabel('Rating')\n",
    "axes[0].set_title(\"Distribusi Rating App Free\")\n",
    "\n",
    "paid_count_group[\"Rating\"].plot(kind=\"hist\",color=\"blue\",bins=42,grid=True,alpha=0.65,label=\"Rating\",ax=axes[1])\n",
    "axes[1].legend()\n",
    "axes[1].set_xlabel(\"Rating\")\n",
    "axes[1].set_title(\"Distribusi Rating App Paid\")"
   ]
  },
  {
   "cell_type": "code",
   "execution_count": null,
   "metadata": {},
   "outputs": [],
   "source": [
    "count_cat = dfGapps.groupby('Category')"
   ]
  },
  {
   "cell_type": "code",
   "execution_count": null,
   "metadata": {},
   "outputs": [],
   "source": [
    "count_cat0 = count_cat.get_group('ART_AND_DESIGN')\n",
    "count_cat1 = count_cat.get_group('AUTO_AND_VEHICLES')\n",
    "count_cat2 = count_cat.get_group('BEAUTY')\n",
    "count_cat3 = count_cat.get_group('BOOKS_AND_REFERENCE')\n",
    "count_cat4 = count_cat.get_group('BUSINESS')\n",
    "count_cat5 = count_cat.get_group('COMICS')\n",
    "count_cat6 = count_cat.get_group('COMMUNICATION')\n",
    "count_cat7 = count_cat.get_group('DATING')\n",
    "count_cat8 = count_cat.get_group('EDUCATION')\n",
    "count_cat9 = count_cat.get_group('ENTERTAINMENT')\n",
    "count_cat10 = count_cat.get_group('EVENTS')\n",
    "count_cat11 = count_cat.get_group('FAMILY')\n",
    "count_cat12 = count_cat.get_group('FINANCE')\n",
    "count_cat13 = count_cat.get_group('FOOD_AND_DRINK')\n",
    "count_cat14 = count_cat.get_group('GAME')\n",
    "count_cat15 = count_cat.get_group('HEALTH_AND_FITNESS')\n",
    "count_cat16 = count_cat.get_group('HOUSE_AND_HOME')\n",
    "count_cat17 = count_cat.get_group('LIBRARIES_AND_DEMO')\n",
    "count_cat18 = count_cat.get_group('LIFESTYLE')\n",
    "count_cat19 = count_cat.get_group('MAPS_AND_NAVIGATION')\n",
    "count_cat20 = count_cat.get_group('MEDICAL')\n",
    "count_cat21 = count_cat.get_group('NEWS_AND_MAGAZINES')\n",
    "count_cat22 = count_cat.get_group('PARENTING')\n",
    "count_cat23 = count_cat.get_group('PERSONALIZATION')\n",
    "count_cat24 = count_cat.get_group('PHOTOGRAPHY')\n",
    "count_cat25 = count_cat.get_group('PRODUCTIVITY')\n",
    "count_cat26 = count_cat.get_group('SHOPPING')\n",
    "count_cat27 = count_cat.get_group('SOCIAL')\n",
    "count_cat28 = count_cat.get_group('SPORTS')\n",
    "count_cat29 = count_cat.get_group('TOOLS')\n",
    "count_cat30 = count_cat.get_group('TRAVEL_AND_LOCAL')\n",
    "count_cat31 = count_cat.get_group('VIDEO_PLAYERS')\n",
    "count_cat32 = count_cat.get_group('WEATHER')"
   ]
  },
  {
   "cell_type": "code",
   "execution_count": null,
   "metadata": {},
   "outputs": [
    {
     "data": {
      "image/png": "[encoded data removed]",
      "text/plain": [
       "<Figure size 1800x2520 with 33 Axes>"
      ]
     },
     "metadata": {
      "needs_background": "light"
     },
     "output_type": "display_data"
    }
   ],
   "source": [
    "fig, axes = plt.subplots(nrows=7,ncols=5,figsize=(25,35))\n",
    "count_cat0[\"Rating\"].plot(kind=\"hist\",color=\"blue\",bins=10,grid=True,alpha=0.65,label=\"Rating\",ax=axes[0][0])\n",
    "axes[0][0].set_xlim(1.0,5.0)\n",
    "axes[0][0].set_ylim(0,800)\n",
    "axes[0][0].legend()\n",
    "axes[0][0].set_xlabel('Rating')\n",
    "axes[0][0].set_title(\"Category ART_AND_DESIGN\")\n",
    "\n",
    "count_cat1[\"Rating\"].plot(kind=\"hist\",color=\"blue\",bins=10,grid=True,alpha=0.65,label=\"Rating\",ax=axes[0][1])\n",
    "axes[0][1].set_xlim(1.0,5.0)\n",
    "axes[0][1].set_ylim(0,800)\n",
    "axes[0][1].legend()\n",
    "axes[0][1].set_xlabel('Rating')\n",
    "axes[0][1].set_title(\"Category AUTO_AND_VEHICLES\")\n",
    "\n",
    "count_cat2[\"Rating\"].plot(kind=\"hist\",color=\"blue\",bins=10,grid=True,alpha=0.65,label=\"Rating\",ax=axes[0][2])\n",
    "axes[0][2].set_xlim(1.0,5.0)\n",
    "axes[0][2].set_ylim(0,800)\n",
    "axes[0][2].legend()\n",
    "axes[0][2].set_xlabel('Rating')\n",
    "axes[0][2].set_title(\"Category BEAUTY\")\n",
    "\n",
    "count_cat3[\"Rating\"].plot(kind=\"hist\",color=\"blue\",bins=10,grid=True,alpha=0.65,label=\"Rating\",ax=axes[0][3])\n",
    "axes[0][3].set_xlim(1.0,5.0)\n",
    "axes[0][3].set_ylim(0,800)\n",
    "axes[0][3].legend()\n",
    "axes[0][3].set_xlabel('Rating')\n",
    "axes[0][3].set_title(\"Category BOOKS_AND_REFERENCE\")\n",
    "\n",
    "count_cat4[\"Rating\"].plot(kind=\"hist\",color=\"blue\",bins=10,grid=True,alpha=0.65,label=\"Rating\",ax=axes[0][4])\n",
    "axes[0][4].set_xlim(1.0,5.0)\n",
    "axes[0][4].set_ylim(0,800)\n",
    "axes[0][4].legend()\n",
    "axes[0][4].set_xlabel('Rating')\n",
    "axes[0][4].set_title(\"Category BUSINESS\")\n",
    "\n",
    "count_cat5[\"Rating\"].plot(kind=\"hist\",color=\"blue\",bins=10,grid=True,alpha=0.65,label=\"Rating\",ax=axes[1][0])\n",
    "axes[1][0].set_xlim(1.0,5.0)\n",
    "axes[1][0].set_ylim(0,800)\n",
    "axes[1][0].legend()\n",
    "axes[1][0].set_xlabel('Rating')\n",
    "axes[1][0].set_title(\"Category COMICS\")\n",
    "\n",
    "count_cat6[\"Rating\"].plot(kind=\"hist\",color=\"blue\",bins=10,grid=True,alpha=0.65,label=\"Rating\",ax=axes[1][1])\n",
    "axes[1][1].set_xlim(1.0,5.0)\n",
    "axes[1][1].set_ylim(0,800)\n",
    "axes[1][1].legend()\n",
    "axes[1][1].set_xlabel('Rating')\n",
    "axes[1][1].set_title(\"Category COMMUNICATION\")\n",
    "\n",
    "count_cat7[\"Rating\"].plot(kind=\"hist\",color=\"blue\",bins=10,grid=True,alpha=0.65,label=\"Rating\",ax=axes[1][2])\n",
    "axes[1][2].set_xlim(1.0,5.0)\n",
    "axes[1][2].set_ylim(0,800)\n",
    "axes[1][2].legend()\n",
    "axes[1][2].set_xlabel('Rating')\n",
    "axes[1][2].set_title(\"Category DATING\")\n",
    "\n",
    "count_cat8[\"Rating\"].plot(kind=\"hist\",color=\"blue\",bins=10,grid=True,alpha=0.65,label=\"Rating\",ax=axes[1][3])\n",
    "axes[1][3].set_xlim(1.0,5.0)\n",
    "axes[1][3].set_ylim(0,800)\n",
    "axes[1][3].legend()\n",
    "axes[1][3].set_xlabel('Rating')\n",
    "axes[1][3].set_title(\"Category EDUCATION\")\n",
    "\n",
    "count_cat9[\"Rating\"].plot(kind=\"hist\",color=\"blue\",bins=10,grid=True,alpha=0.65,label=\"Rating\",ax=axes[1][4])\n",
    "axes[1][4].set_xlim(1.0,5.0)\n",
    "axes[1][4].set_ylim(0,800)\n",
    "axes[1][4].legend()\n",
    "axes[1][4].set_xlabel('Rating')\n",
    "axes[1][4].set_title(\"Category ENTERTAINMENT\")\n",
    "\n",
    "count_cat10[\"Rating\"].plot(kind=\"hist\",color=\"blue\",bins=10,grid=True,alpha=0.65,label=\"Rating\",ax=axes[2][0])\n",
    "axes[2][0].set_xlim(1.0,5.0)\n",
    "axes[2][0].set_ylim(0,800)\n",
    "axes[2][0].legend()\n",
    "axes[2][0].set_xlabel('Rating')\n",
    "axes[2][0].set_title(\"Category EVENTS\")\n",
    "\n",
    "count_cat11[\"Rating\"].plot(kind=\"hist\",color=\"blue\",bins=10,grid=True,alpha=0.65,label=\"Rating\",ax=axes[2][1])\n",
    "axes[2][1].set_xlim(1.0,5.0)\n",
    "axes[2][1].set_ylim(0,800)\n",
    "axes[2][1].legend()\n",
    "axes[2][1].set_xlabel('Rating')\n",
    "axes[2][1].set_title(\"Category FAMILY\")\n",
    "\n",
    "count_cat12[\"Rating\"].plot(kind=\"hist\",color=\"blue\",bins=10,grid=True,alpha=0.65,label=\"Rating\",ax=axes[2][2])\n",
    "axes[2][2].set_xlim(1.0,5.0)\n",
    "axes[2][2].set_ylim(0,800)\n",
    "axes[2][2].legend()\n",
    "axes[2][2].set_xlabel('Rating')\n",
    "axes[2][2].set_title(\"Category FINANCE\")\n",
    "\n",
    "count_cat13[\"Rating\"].plot(kind=\"hist\",color=\"blue\",bins=10,grid=True,alpha=0.65,label=\"Rating\",ax=axes[2][3])\n",
    "axes[2][3].set_xlim(1.0,5.0)\n",
    "axes[2][3].set_ylim(0,800)\n",
    "axes[2][3].legend()\n",
    "axes[2][3].set_xlabel('Rating')\n",
    "axes[2][3].set_title(\"Category FOOD_AND_DRINK\")\n",
    "\n",
    "count_cat14[\"Rating\"].plot(kind=\"hist\",color=\"blue\",bins=10,grid=True,alpha=0.65,label=\"Rating\",ax=axes[2][4])\n",
    "axes[2][4].set_xlim(1.0,5.0)\n",
    "axes[2][4].set_ylim(0,800)\n",
    "axes[2][4].legend()\n",
    "axes[2][4].set_xlabel('Rating')\n",
    "axes[2][4].set_title(\"Category GAME\")\n",
    "\n",
    "count_cat15[\"Rating\"].plot(kind=\"hist\",color=\"blue\",bins=10,grid=True,alpha=0.65,label=\"Rating\",ax=axes[3][0])\n",
    "axes[3][0].set_xlim(1.0,5.0)\n",
    "axes[3][0].set_ylim(0,800)\n",
    "axes[3][0].legend()\n",
    "axes[3][0].set_xlabel('Rating')\n",
    "axes[3][0].set_title(\"Category HOUSE_AND_HOME\")\n",
    "\n",
    "count_cat16[\"Rating\"].plot(kind=\"hist\",color=\"blue\",bins=10,grid=True,alpha=0.65,label=\"Rating\",ax=axes[3][1])\n",
    "axes[3][1].set_xlim(1.0,5.0)\n",
    "axes[3][1].set_ylim(0,800)\n",
    "axes[3][1].legend()\n",
    "axes[3][1].set_xlabel('Rating')\n",
    "axes[3][1].set_title(\"Category LIBRARIES_AND_DEMO\")\n",
    "\n",
    "count_cat17[\"Rating\"].plot(kind=\"hist\",color=\"blue\",bins=10,grid=True,alpha=0.65,label=\"Rating\",ax=axes[3][2])\n",
    "axes[3][2].set_xlim(1.0,5.0)\n",
    "axes[3][2].set_ylim(0,800)\n",
    "axes[3][2].legend()\n",
    "axes[3][2].set_xlabel('Rating')\n",
    "axes[3][2].set_title(\"Category LIFESTYLE\")\n",
    "\n",
    "count_cat18[\"Rating\"].plot(kind=\"hist\",color=\"blue\",bins=10,grid=True,alpha=0.65,label=\"Rating\",ax=axes[3][3])\n",
    "axes[3][3].set_xlim(1.0,5.0)\n",
    "axes[3][3].set_ylim(0,800)\n",
    "axes[3][3].legend()\n",
    "axes[3][3].set_xlabel('Rating')\n",
    "axes[3][3].set_title(\"Category MEDICAL\")\n",
    "\n",
    "count_cat19[\"Rating\"].plot(kind=\"hist\",color=\"blue\",bins=10,grid=True,alpha=0.65,label=\"Rating\",ax=axes[3][4])\n",
    "axes[3][4].set_xlim(1.0,5.0)\n",
    "axes[3][4].set_ylim(0,800)\n",
    "axes[3][4].legend()\n",
    "axes[3][4].set_xlabel('Rating')\n",
    "axes[3][4].set_title(\"Category NEWS_AND_MAGAZINES\")\n",
    "\n",
    "count_cat20[\"Rating\"].plot(kind=\"hist\",color=\"blue\",bins=20,grid=True,alpha=0.65,label=\"Rating\",ax=axes[4][0])\n",
    "axes[4][0].set_xlim(1.0,5.0)\n",
    "axes[4][0].set_ylim(0,800)\n",
    "axes[4][0].legend()\n",
    "axes[4][0].set_xlabel('Rating')\n",
    "axes[4][0].set_title(\"Category PARENTING\")\n",
    "\n",
    "count_cat21[\"Rating\"].plot(kind=\"hist\",color=\"blue\",bins=10,grid=True,alpha=0.65,label=\"Rating\",ax=axes[4][1])\n",
    "axes[4][1].set_xlim(1.0,5.0)\n",
    "axes[4][1].set_ylim(0,800)\n",
    "axes[4][1].legend()\n",
    "axes[4][1].set_xlabel('Rating')\n",
    "axes[4][1].set_title(\"Category PERSONALIZATION\")\n",
    "\n",
    "count_cat22[\"Rating\"].plot(kind=\"hist\",color=\"blue\",bins=10,grid=True,alpha=0.65,label=\"Rating\",ax=axes[4][2])\n",
    "axes[4][2].set_xlim(1.0,5.0)\n",
    "axes[4][2].set_ylim(0,800)\n",
    "axes[4][2].legend()\n",
    "axes[4][2].set_xlabel('Rating')\n",
    "axes[4][2].set_title(\"Category PHOTOGRAPHY\")\n",
    "\n",
    "count_cat23[\"Rating\"].plot(kind=\"hist\",color=\"blue\",bins=10,grid=True,alpha=0.65,label=\"Rating\",ax=axes[4][3])\n",
    "axes[4][3].set_xlim(1.0,5.0)\n",
    "axes[4][3].set_ylim(0,800)\n",
    "axes[4][3].legend()\n",
    "axes[4][3].set_xlabel('Rating')\n",
    "axes[4][3].set_title(\"Category PRODUCTIVITY\")\n",
    "\n",
    "count_cat24[\"Rating\"].plot(kind=\"hist\",color=\"blue\",bins=10,grid=True,alpha=0.65,label=\"Rating\",ax=axes[4][4])\n",
    "axes[4][4].set_xlim(1.0,5.0)\n",
    "axes[4][4].set_ylim(0,800)\n",
    "axes[4][4].legend()\n",
    "axes[4][4].set_xlabel('Rating')\n",
    "axes[4][4].set_title(\"Category SHOPPING\")\n",
    "\n",
    "count_cat25[\"Rating\"].plot(kind=\"hist\",color=\"blue\",bins=10,grid=True,alpha=0.65,label=\"Rating\",ax=axes[5][0])\n",
    "axes[5][0].set_xlim(1.0,5.0)\n",
    "axes[5][0].set_ylim(0,800)\n",
    "axes[5][0].legend()\n",
    "axes[5][0].set_xlabel('Rating')\n",
    "axes[5][0].set_title(\"Category SOCIAL\")\n",
    "\n",
    "count_cat26[\"Rating\"].plot(kind=\"hist\",color=\"blue\",bins=10,grid=True,alpha=0.65,label=\"Rating\",ax=axes[5][1])\n",
    "axes[5][1].set_xlim(1.0,5.0)\n",
    "axes[5][1].set_ylim(0,800)\n",
    "axes[5][1].legend()\n",
    "axes[5][1].set_xlabel('Rating')\n",
    "axes[5][1].set_title(\"Category SPORTS\")\n",
    "\n",
    "count_cat27[\"Rating\"].plot(kind=\"hist\",color=\"blue\",bins=10,grid=True,alpha=0.65,label=\"Rating\",ax=axes[5][2])\n",
    "axes[5][2].set_xlim(1.0,5.0)\n",
    "axes[5][2].set_ylim(0,800)\n",
    "axes[5][2].legend()\n",
    "axes[5][2].set_xlabel('Rating')\n",
    "axes[5][2].set_title(\"Category TOOLS\")\n",
    "\n",
    "count_cat28[\"Rating\"].plot(kind=\"hist\",color=\"blue\",bins=10,grid=True,alpha=0.65,label=\"Rating\",ax=axes[5][3])\n",
    "axes[5][3].set_xlim(1.0,5.0)\n",
    "axes[5][3].set_ylim(0,800)\n",
    "axes[5][3].legend()\n",
    "axes[5][3].set_xlabel('Rating')\n",
    "axes[5][3].set_title(\"Category TRAVEL_AND_LOCAL\")\n",
    "\n",
    "count_cat29[\"Rating\"].plot(kind=\"hist\",color=\"blue\",bins=10,grid=True,alpha=0.65,label=\"Rating\",ax=axes[5][4])\n",
    "axes[5][4].set_xlim(1.0,5.0)\n",
    "axes[5][4].set_ylim(0,800)\n",
    "axes[5][4].legend()\n",
    "axes[5][4].set_xlabel('Rating')\n",
    "axes[5][4].set_title(\"Category VIDEO_PLAYERS\")\n",
    "\n",
    "count_cat30[\"Rating\"].plot(kind=\"hist\",color=\"blue\",bins=10,grid=True,alpha=0.65,label=\"Rating\",ax=axes[6][0])\n",
    "axes[6][0].set_xlim(1.0,5.0)\n",
    "axes[6][0].set_ylim(0,800)\n",
    "axes[6][0].legend()\n",
    "axes[6][0].set_xlabel('Rating')\n",
    "axes[6][0].set_title(\"Category WEATHER\")\n",
    "\n",
    "count_cat31[\"Rating\"].plot(kind=\"hist\",color=\"blue\",bins=10,grid=True,alpha=0.65,label=\"Rating\",ax=axes[6][1])\n",
    "axes[6][1].set_xlim(1.0,5.0)\n",
    "axes[6][1].set_ylim(0,800)\n",
    "axes[6][1].legend()\n",
    "axes[6][1].set_xlabel('Rating')\n",
    "axes[6][1].set_title(\"Category HEALTH_AND_FITNESS\")\n",
    "\n",
    "count_cat32[\"Rating\"].plot(kind=\"hist\",color=\"blue\",bins=10,grid=True,alpha=0.65,label=\"Rating\",ax=axes[6][2])\n",
    "axes[6][2].set_xlim(1.0,5.0)\n",
    "axes[6][2].set_ylim(0,800)\n",
    "axes[6][2].legend()\n",
    "axes[6][2].set_xlabel('Rating')\n",
    "axes[6][2].set_title(\"Category MAPS_AND_NAVIGATION\")\n",
    "\n",
    "axes[6][3].remove()\n",
    "axes[6][4].remove()"
   ]
  },
  {
   "cell_type": "markdown",
   "metadata": {},
   "source": [
    "### Install Count Category"
   ]
  },
  {
   "cell_type": "code",
   "execution_count": null,
   "metadata": {},
   "outputs": [],
   "source": [
    "fig, axes = plt.subplots(nrows=11,ncols=3,figsize=(29,90))\n",
    "sns.countplot(x='Installs temp',data = count_cat0,ax=axes[0][0])\n",
    "axes[0][0].yaxis.set_major_locator(ticker.LinearLocator(11))\n",
    "axes[0][0].set_xticklabels(axes[0][0].get_xticklabels(), rotation=30)\n",
    "axes[0][0].set_ylabel('Frekuensi')\n",
    "axes[0][0].set_title(\"Install Count ART_AND_DESIGN\")\n",
    "axes[0][0].set_ylim(0,300)\n",
    "\n",
    "sns.countplot(x='Installs temp',data = count_cat1,ax=axes[0][1])\n",
    "axes[0][1].yaxis.set_major_locator(ticker.LinearLocator(11))\n",
    "axes[0][1].set_xticklabels(axes[0][1].get_xticklabels(), rotation=30)\n",
    "axes[0][1].set_ylabel('Frekuensi')\n",
    "axes[0][1].set_title(\"Install Count AUTO_AND_VEHICLES\")\n",
    "axes[0][1].set_ylim(0,300)\n",
    "\n",
    "sns.countplot(x='Installs temp',data = count_cat2,ax=axes[0][2])\n",
    "axes[0][2].yaxis.set_major_locator(ticker.LinearLocator(11))\n",
    "axes[0][2].set_xticklabels(axes[0][2].get_xticklabels(), rotation=30)\n",
    "axes[0][2].set_ylabel('Frekuensi')\n",
    "axes[0][2].set_title(\"Install Count BEAUTY\")\n",
    "axes[0][2].set_ylim(0,300)\n",
    "\n",
    "sns.countplot(x='Installs temp',data = count_cat3,ax=axes[1][0])\n",
    "axes[1][0].yaxis.set_major_locator(ticker.LinearLocator(11))\n",
    "axes[1][0].set_xticklabels(axes[1][0].get_xticklabels(), rotation=30)\n",
    "axes[1][0].set_ylabel('Frekuensi')\n",
    "axes[1][0].set_title(\"Install Count BOOKS_AND_REFERENCE\")\n",
    "axes[1][0].set_ylim(0,300)\n",
    "\n",
    "sns.countplot(x='Installs temp',data = count_cat4,ax=axes[1][1])\n",
    "axes[1][1].yaxis.set_major_locator(ticker.LinearLocator(11))\n",
    "axes[1][1].set_xticklabels(axes[1][1].get_xticklabels(), rotation=30)\n",
    "axes[1][1].set_ylabel('Frekuensi')\n",
    "axes[1][1].set_title(\"Install Count BUSINESS\")\n",
    "axes[1][1].set_ylim(0,300)\n",
    "\n",
    "sns.countplot(x='Installs temp',data = count_cat5,ax=axes[1][2])\n",
    "axes[1][2].yaxis.set_major_locator(ticker.LinearLocator(11))\n",
    "axes[1][2].set_xticklabels(axes[1][2].get_xticklabels(), rotation=30)\n",
    "axes[1][2].set_ylabel('Frekuensi')\n",
    "axes[1][2].set_title(\"Install Count COMICS\")\n",
    "axes[1][2].set_ylim(0,300)\n",
    "\n",
    "sns.countplot(x='Installs temp',data = count_cat6,ax=axes[2][0])\n",
    "axes[2][0].yaxis.set_major_locator(ticker.LinearLocator(11))\n",
    "axes[2][0].set_xticklabels(axes[2][0].get_xticklabels(), rotation=30)\n",
    "axes[2][0].set_ylabel('Frekuensi')\n",
    "axes[2][0].set_title(\"Install Count COMMUNICATION\")\n",
    "axes[2][0].set_ylim(0,300)\n",
    "\n",
    "sns.countplot(x='Installs temp',data = count_cat7,ax=axes[2][1])\n",
    "axes[2][1].yaxis.set_major_locator(ticker.LinearLocator(11))\n",
    "axes[2][1].set_xticklabels(axes[2][1].get_xticklabels(), rotation=30)\n",
    "axes[2][1].set_ylabel('Frekuensi')\n",
    "axes[2][1].set_title(\"Install Count DATING\")\n",
    "axes[2][1].set_ylim(0,300)\n",
    "\n",
    "sns.countplot(x='Installs temp',data = count_cat8,ax=axes[2][2])\n",
    "axes[2][2].yaxis.set_major_locator(ticker.LinearLocator(11))\n",
    "axes[2][2].set_xticklabels(axes[2][2].get_xticklabels(), rotation=30)\n",
    "axes[2][2].set_ylabel('Frekuensi')\n",
    "axes[2][2].set_title(\"Install Count EDUCATION\")\n",
    "axes[2][2].set_ylim(0,300)\n",
    "\n",
    "sns.countplot(x='Installs temp',data = count_cat9,ax=axes[3][0])\n",
    "axes[3][0].yaxis.set_major_locator(ticker.LinearLocator(11))\n",
    "axes[3][0].set_xticklabels(axes[3][0].get_xticklabels(), rotation=30)\n",
    "axes[3][0].set_ylabel('Frekuensi')\n",
    "axes[3][0].set_title(\"Install Count ENTERTAINMENT\")\n",
    "axes[3][0].set_ylim(0,300)\n",
    "\n",
    "sns.countplot(x='Installs temp',data = count_cat10,ax=axes[3][1])\n",
    "axes[3][1].yaxis.set_major_locator(ticker.LinearLocator(11))\n",
    "axes[3][1].set_xticklabels(axes[3][1].get_xticklabels(), rotation=30)\n",
    "axes[3][1].set_ylabel('Frekuensi')\n",
    "axes[3][1].set_title(\"Install Count EVENTS\")\n",
    "axes[3][1].set_ylim(0,300)\n",
    "\n",
    "sns.countplot(x='Installs temp',data = count_cat11,ax=axes[3][2])\n",
    "axes[3][2].yaxis.set_major_locator(ticker.LinearLocator(11))\n",
    "axes[3][2].set_xticklabels(axes[3][2].get_xticklabels(), rotation=30)\n",
    "axes[3][2].set_ylabel('Frekuensi')\n",
    "axes[3][2].set_title(\"Install Count FAMILY\")\n",
    "axes[3][2].set_ylim(0,300)\n",
    "\n",
    "sns.countplot(x='Installs temp',data = count_cat12,ax=axes[4][0])\n",
    "axes[4][0].yaxis.set_major_locator(ticker.LinearLocator(11))\n",
    "axes[4][0].set_xticklabels(axes[4][0].get_xticklabels(), rotation=30)\n",
    "axes[4][0].set_ylabel('Frekuensi')\n",
    "axes[4][0].set_title(\"Install Count FINANCE\")\n",
    "axes[4][0].set_ylim(0,300)\n",
    "\n",
    "sns.countplot(x='Installs temp',data = count_cat13,ax=axes[4][1])\n",
    "axes[4][1].yaxis.set_major_locator(ticker.LinearLocator(11))\n",
    "axes[4][1].set_xticklabels(axes[4][1].get_xticklabels(), rotation=30)\n",
    "axes[4][1].set_ylabel('Frekuensi')\n",
    "axes[4][1].set_title(\"Install Count FOOD_AND_DRINK\")\n",
    "axes[4][1].set_ylim(0,300)\n",
    "\n",
    "sns.countplot(x='Installs temp',data = count_cat14,ax=axes[4][2])\n",
    "axes[4][2].yaxis.set_major_locator(ticker.LinearLocator(11))\n",
    "axes[4][2].set_xticklabels(axes[4][2].get_xticklabels(), rotation=30)\n",
    "axes[4][2].set_ylabel('Frekuensi')\n",
    "axes[4][2].set_title(\"Install Count GAME\")\n",
    "axes[4][2].set_ylim(0,300)\n",
    "\n",
    "sns.countplot(x='Installs temp',data = count_cat15,ax=axes[5][0])\n",
    "axes[5][0].yaxis.set_major_locator(ticker.LinearLocator(11))\n",
    "axes[5][0].set_xticklabels(axes[5][0].get_xticklabels(), rotation=30)\n",
    "axes[5][0].set_ylabel('Frekuensi')\n",
    "axes[5][0].set_title(\"Install Count HEALTH_AND_FITNESS\")\n",
    "axes[5][0].set_ylim(0,300)\n",
    "\n",
    "sns.countplot(x='Installs temp',data = count_cat16,ax=axes[5][1])\n",
    "axes[5][1].yaxis.set_major_locator(ticker.LinearLocator(11))\n",
    "axes[5][1].set_xticklabels(axes[5][1].get_xticklabels(), rotation=30)\n",
    "axes[5][1].set_ylabel('Frekuensi')\n",
    "axes[5][1].set_title(\"Install Count HOUSE_AND_HOME\")\n",
    "axes[5][1].set_ylim(0,300)\n",
    "\n",
    "sns.countplot(x='Installs temp',data = count_cat17,ax=axes[5][2])\n",
    "axes[5][2].yaxis.set_major_locator(ticker.LinearLocator(11))\n",
    "axes[5][2].set_xticklabels(axes[5][2].get_xticklabels(), rotation=30)\n",
    "axes[5][2].set_ylabel('Frekuensi')\n",
    "axes[5][2].set_title(\"Install Count LIBRARIES_AND_DEMO\")\n",
    "axes[5][2].set_ylim(0,300)\n",
    "\n",
    "sns.countplot(x='Installs temp',data = count_cat18,ax=axes[6][0])\n",
    "axes[6][0].yaxis.set_major_locator(ticker.LinearLocator(11))\n",
    "axes[6][0].set_xticklabels(axes[6][0].get_xticklabels(), rotation=30)\n",
    "axes[6][0].set_ylabel('Frekuensi')\n",
    "axes[6][0].set_title(\"Install Count LIFESTYLE\")\n",
    "axes[6][0].set_ylim(0,300)\n",
    "\n",
    "sns.countplot(x='Installs temp',data = count_cat19,ax=axes[6][1])\n",
    "axes[6][1].yaxis.set_major_locator(ticker.LinearLocator(11))\n",
    "axes[6][1].set_xticklabels(axes[6][1].get_xticklabels(), rotation=30)\n",
    "axes[6][1].set_ylabel('Frekuensi')\n",
    "axes[6][1].set_title(\"Install Count MAPS_AND_NAVIGATION\")\n",
    "axes[6][1].set_ylim(0,300)\n",
    "\n",
    "sns.countplot(x='Installs temp',data = count_cat20,ax=axes[6][2])\n",
    "axes[6][2].yaxis.set_major_locator(ticker.LinearLocator(11))\n",
    "axes[6][2].set_xticklabels(axes[6][2].get_xticklabels(), rotation=30)\n",
    "axes[6][2].set_ylabel('Frekuensi')\n",
    "axes[6][2].set_title(\"Install Count MEDICAL\")\n",
    "axes[6][2].set_ylim(0,300)\n",
    "\n",
    "sns.countplot(x='Installs temp',data = count_cat21,ax=axes[7][0])\n",
    "axes[7][0].yaxis.set_major_locator(ticker.LinearLocator(11))\n",
    "axes[7][0].set_xticklabels(axes[7][0].get_xticklabels(), rotation=30)\n",
    "axes[7][0].set_ylabel('Frekuensi')\n",
    "axes[7][0].set_title(\"Install Count NEWS_AND_MAGAZINES\")\n",
    "axes[7][0].set_ylim(0,300)\n",
    "\n",
    "sns.countplot(x='Installs temp',data = count_cat22,ax=axes[7][1])\n",
    "axes[7][1].yaxis.set_major_locator(ticker.LinearLocator(11))\n",
    "axes[7][1].set_xticklabels(axes[7][1].get_xticklabels(), rotation=30)\n",
    "axes[7][1].set_ylabel('Frekuensi')\n",
    "axes[7][1].set_title(\"Install Count PARENTING\")\n",
    "axes[7][1].set_ylim(0,300)\n",
    "\n",
    "sns.countplot(x='Installs temp',data = count_cat23,ax=axes[7][2])\n",
    "axes[7][2].yaxis.set_major_locator(ticker.LinearLocator(11))\n",
    "axes[7][2].set_xticklabels(axes[7][2].get_xticklabels(), rotation=30)\n",
    "axes[7][2].set_ylabel('Frekuensi')\n",
    "axes[7][2].set_title(\"Install Count PERSONALIZATION\")\n",
    "axes[7][2].set_ylim(0,300)\n",
    "\n",
    "sns.countplot(x='Installs temp',data = count_cat24,ax=axes[8][0])\n",
    "axes[8][0].yaxis.set_major_locator(ticker.LinearLocator(11))\n",
    "axes[8][0].set_xticklabels(axes[8][0].get_xticklabels(), rotation=30)\n",
    "axes[8][0].set_ylabel('Frekuensi')\n",
    "axes[8][0].set_title(\"Install Count PHOTOGRAPHY\")\n",
    "axes[8][0].set_ylim(0,300)\n",
    "\n",
    "sns.countplot(x='Installs temp',data = count_cat25,ax=axes[8][1])\n",
    "axes[8][1].yaxis.set_major_locator(ticker.LinearLocator(11))\n",
    "axes[8][1].set_xticklabels(axes[8][1].get_xticklabels(), rotation=30)\n",
    "axes[8][1].set_ylabel('Frekuensi')\n",
    "axes[8][1].set_title(\"Install Count PRODUCTIVITY\")\n",
    "axes[8][1].set_ylim(0,300)\n",
    "\n",
    "sns.countplot(x='Installs temp',data = count_cat26,ax=axes[8][2])\n",
    "axes[8][2].yaxis.set_major_locator(ticker.LinearLocator(11))\n",
    "axes[8][2].set_xticklabels(axes[8][2].get_xticklabels(), rotation=30)\n",
    "axes[8][2].set_ylabel('Frekuensi')\n",
    "axes[8][2].set_title(\"Install Count SHOPPING\")\n",
    "axes[8][2].set_ylim(0,300)\n",
    "\n",
    "sns.countplot(x='Installs temp',data = count_cat27,ax=axes[9][0])\n",
    "axes[9][0].yaxis.set_major_locator(ticker.LinearLocator(11))\n",
    "axes[9][0].set_xticklabels(axes[9][0].get_xticklabels(), rotation=30)\n",
    "axes[9][0].set_ylabel('Frekuensi')\n",
    "axes[9][0].set_title(\"Install Count SOCIAL\")\n",
    "axes[9][0].set_ylim(0,300)\n",
    "\n",
    "sns.countplot(x='Installs temp',data = count_cat28,ax=axes[9][1])\n",
    "axes[9][1].yaxis.set_major_locator(ticker.LinearLocator(11))\n",
    "axes[9][1].set_xticklabels(axes[9][1].get_xticklabels(), rotation=30)\n",
    "axes[9][1].set_ylabel('Frekuensi')\n",
    "axes[9][1].set_title(\"Install Count SPORTS\")\n",
    "axes[9][1].set_ylim(0,300)\n",
    "\n",
    "sns.countplot(x='Installs temp',data = count_cat29,ax=axes[9][2])\n",
    "axes[9][2].yaxis.set_major_locator(ticker.LinearLocator(11))\n",
    "axes[9][2].set_xticklabels(axes[9][2].get_xticklabels(), rotation=30)\n",
    "axes[9][2].set_ylabel('Frekuensi')\n",
    "axes[9][2].set_title(\"Install Count TOOLS\")\n",
    "axes[9][2].set_ylim(0,300)\n",
    "\n",
    "sns.countplot(x='Installs temp',data = count_cat30,ax=axes[10][0])\n",
    "axes[10][0].yaxis.set_major_locator(ticker.LinearLocator(11))\n",
    "axes[10][0].set_xticklabels(axes[10][0].get_xticklabels(), rotation=30)\n",
    "axes[10][0].set_ylabel('Frekuensi')\n",
    "axes[10][0].set_title(\"Install Count TRAVEL_AND_LOCAL\")\n",
    "axes[10][0].set_ylim(0,300)\n",
    "\n",
    "sns.countplot(x='Installs temp',data = count_cat31,ax=axes[10][1])\n",
    "axes[10][1].yaxis.set_major_locator(ticker.LinearLocator(11))\n",
    "axes[10][1].set_xticklabels(axes[10][1].get_xticklabels(), rotation=30)\n",
    "axes[10][1].set_ylabel('Frekuensi')\n",
    "axes[10][1].set_title(\"Install Count VIDEO_PLAYERS\")\n",
    "axes[10][1].set_ylim(0,300)\n",
    "\n",
    "sns.countplot(x='Installs temp',data = count_cat32,ax=axes[10][2])\n",
    "axes[10][2].yaxis.set_major_locator(ticker.LinearLocator(11))\n",
    "axes[10][2].set_xticklabels(axes[10][2].get_xticklabels(), rotation=30)\n",
    "axes[10][2].set_ylabel('Frekuensi')\n",
    "axes[10][2].set_title(\"Install Count WEATHER\")\n",
    "axes[10][2].set_ylim(0,300)"
   ]
  },
  {
   "cell_type": "markdown",
   "metadata": {},
   "source": [
    "### Size Vs Rating"
   ]
  },
  {
   "cell_type": "code",
   "execution_count": null,
   "metadata": {},
   "outputs": [],
   "source": [
    "# Size vs Rating\n",
    "sns.set_style(\"darkgrid\")\n",
    "ax = sns.jointplot(dfGapps['Size'], dfGapps['Rating'])"
   ]
  }
 ],
 "metadata": {
  "kernelspec": {
   "display_name": "Python 3",
   "language": "python",
   "name": "python3"
  },
  "language_info": {
   "codemirror_mode": {
    "name": "ipython",
    "version": 3
   },
   "file_extension": ".py",
   "mimetype": "text/x-python",
   "name": "python",
   "nbconvert_exporter": "python",
   "pygments_lexer": "ipython3",
   "version": "3.7.3"
  }
 },
 "nbformat": 4,
 "nbformat_minor": 2
}
